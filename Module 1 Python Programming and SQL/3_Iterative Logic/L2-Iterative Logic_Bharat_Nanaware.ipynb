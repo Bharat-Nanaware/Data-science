{
 "cells": [
  {
   "cell_type": "markdown",
   "id": "b462dadb",
   "metadata": {
    "id": "b462dadb"
   },
   "source": [
    "# Iterative Statements\n",
    "- Write solution of each question in the cell given below the corresponsing question."
   ]
  },
  {
   "cell_type": "markdown",
   "id": "f5aefe41",
   "metadata": {
    "id": "f5aefe41"
   },
   "source": [
    "#### 1. Tom and Bob are playing a game of dice. Each time a multiple of two comes up Tom gets a point and if a multiple of 3 comes up bob gets a point. If a multiple of both comes up then a point is deducted from both. Write a program to take a list as input consisting of 10 outcomes of the dice throw. Print the scores of both Tom and bob and the winner."
   ]
  },
  {
   "cell_type": "code",
   "execution_count": 1,
   "id": "WzFaY9Pk53Pl",
   "metadata": {
    "id": "WzFaY9Pk53Pl"
   },
   "outputs": [
    {
     "name": "stdout",
     "output_type": "stream",
     "text": [
      "Tom's Score: 4\n",
      "Bob's Score: 2\n",
      "Tom wins!\n"
     ]
    }
   ],
   "source": [
    "def calculate_scores(outcomes):\n",
    "    tom_score = 0\n",
    "    bob_score = 0\n",
    "\n",
    "    for outcome in outcomes:\n",
    "        if outcome % 2 == 0:\n",
    "            tom_score += 1\n",
    "        if outcome % 3 == 0:\n",
    "            bob_score += 1\n",
    "        if outcome % 2 == 0 and outcome % 3 == 0:\n",
    "            tom_score -= 1\n",
    "            bob_score -= 1\n",
    "\n",
    "    return tom_score, bob_score\n",
    "\n",
    "def print_winner(tom_score, bob_score):\n",
    "    print(f\"Tom's Score: {tom_score}\")\n",
    "    print(f\"Bob's Score: {bob_score}\")\n",
    "\n",
    "    if tom_score > bob_score:\n",
    "        print(\"Tom wins!\")\n",
    "    elif tom_score < bob_score:\n",
    "        print(\"Bob wins!\")\n",
    "    else:\n",
    "        print(\"It's a tie!\")\n",
    "\n",
    "# Example usage:\n",
    "dice_outcomes = [4, 6, 3, 2, 9, 12, 8, 5, 7, 10]\n",
    "tom_score, bob_score = calculate_scores(dice_outcomes)\n",
    "print_winner(tom_score, bob_score)\n"
   ]
  },
  {
   "cell_type": "markdown",
   "id": "57ec6a53",
   "metadata": {
    "id": "57ec6a53"
   },
   "source": [
    "##### 2. Write a program to take a list of 10 numbers as input in single line and find out the largest element."
   ]
  },
  {
   "cell_type": "code",
   "execution_count": 3,
   "id": "scLsG4fkSyUu",
   "metadata": {
    "id": "scLsG4fkSyUu"
   },
   "outputs": [
    {
     "name": "stdout",
     "output_type": "stream",
     "text": [
      "Enter 10 numbers separated by spaces: 11 12 25 32 45 85 41 25 2 25\n",
      "The largest element is: 85\n"
     ]
    }
   ],
   "source": [
    "def find_largest_element(numbers):\n",
    "    largest = max(numbers)\n",
    "    return largest\n",
    "\n",
    "# Example usage:\n",
    "try:\n",
    "    input_numbers = input(\"Enter 10 numbers separated by spaces: \")\n",
    "    numbers_list = list(map(int, input_numbers.split()))\n",
    "    \n",
    "    if len(numbers_list) == 10:\n",
    "        largest_element = find_largest_element(numbers_list)\n",
    "        print(f\"The largest element is: {largest_element}\")\n",
    "    else:\n",
    "        print(\"Please enter exactly 10 numbers.\")\n",
    "except ValueError:\n",
    "    print(\"Invalid input. Please enter valid numbers.\")\n"
   ]
  },
  {
   "cell_type": "markdown",
   "id": "ee2cce37",
   "metadata": {
    "id": "ee2cce37"
   },
   "source": [
    "#### 3. Write a program to take a number as input and find out whether it is prime or not."
   ]
  },
  {
   "cell_type": "code",
   "execution_count": 4,
   "id": "td2eirqTZCiE",
   "metadata": {
    "id": "td2eirqTZCiE"
   },
   "outputs": [
    {
     "name": "stdout",
     "output_type": "stream",
     "text": [
      "Enter a number: 10\n",
      "10 is not a prime number.\n"
     ]
    }
   ],
   "source": [
    "def is_prime(number):\n",
    "    if number < 2:\n",
    "        return False\n",
    "    for i in range(2, int(number**0.5) + 1):\n",
    "        if number % i == 0:\n",
    "            return False\n",
    "    return True\n",
    "\n",
    "# Example usage:\n",
    "try:\n",
    "    user_input = int(input(\"Enter a number: \"))\n",
    "    if is_prime(user_input):\n",
    "        print(f\"{user_input} is a prime number.\")\n",
    "    else:\n",
    "        print(f\"{user_input} is not a prime number.\")\n",
    "except ValueError:\n",
    "    print(\"Invalid input. Please enter a valid number.\")\n"
   ]
  },
  {
   "cell_type": "markdown",
   "id": "07d5a484",
   "metadata": {
    "id": "07d5a484"
   },
   "source": [
    "#### 4. Take a list and a number as input, print all consecutive pairs of two numbers from the list having sum equal to the given number."
   ]
  },
  {
   "cell_type": "code",
   "execution_count": 14,
   "id": "e3acd75f",
   "metadata": {
    "id": "e3acd75f"
   },
   "outputs": [
    {
     "name": "stdout",
     "output_type": "stream",
     "text": [
      "Enter a list of numbers separated by spaces: 10  20 30 0\n",
      "Enter the target sum: 30\n",
      "Pair: (10, 20)\n",
      "Pair: (30, 0)\n"
     ]
    }
   ],
   "source": [
    "def find_pairs_with_sum(lst, target):\n",
    "    for i in range(len(lst) - 1):\n",
    "        current_number = lst[i]\n",
    "        for j in range(i + 1, len(lst)):\n",
    "            next_number = lst[j]\n",
    "            if current_number + next_number == target:\n",
    "                print(f\"Pair: ({current_number}, {next_number})\")\n",
    "\n",
    "# Example usage:\n",
    "try:\n",
    "    input_list = list(map(int, input(\"Enter a list of numbers separated by spaces: \").split()))\n",
    "    target_number = int(input(\"Enter the target sum: \"))\n",
    "    \n",
    "    find_pairs_with_sum(input_list, target_number)\n",
    "except ValueError:\n",
    "    print(\"Invalid input. Please enter valid numbers.\")\n"
   ]
  },
  {
   "cell_type": "markdown",
   "id": "d2bc68d1",
   "metadata": {
    "id": "d2bc68d1"
   },
   "source": [
    "#### 5. Take a string as input and find out the number of words with even length and number of words with odd length."
   ]
  },
  {
   "cell_type": "code",
   "execution_count": 17,
   "id": "P1HffxgLZk6C",
   "metadata": {
    "id": "P1HffxgLZk6C"
   },
   "outputs": [
    {
     "name": "stdout",
     "output_type": "stream",
     "text": [
      "Enter a string: ff f sd df\n",
      "Number of words with even length: 3\n",
      "Number of words with odd length: 1\n"
     ]
    }
   ],
   "source": [
    "def count_words_with_length(string):\n",
    "    words = string.split()\n",
    "    even_length_count = 0\n",
    "    odd_length_count = 0\n",
    "\n",
    "    for word in words:\n",
    "        if len(word) % 2 == 0:\n",
    "            even_length_count += 1\n",
    "        else:\n",
    "            odd_length_count += 1\n",
    "\n",
    "    return even_length_count, odd_length_count\n",
    "\n",
    "# Example usage:\n",
    "try:\n",
    "    input_string = input(\"Enter a string: \")\n",
    "    even_count, odd_count = count_words_with_length(input_string)\n",
    "    \n",
    "    print(f\"Number of words with even length: {even_count}\")\n",
    "    print(f\"Number of words with odd length: {odd_count}\")\n",
    "except ValueError:\n",
    "    print(\"Invalid input. Please enter a valid string.\")\n"
   ]
  },
  {
   "cell_type": "markdown",
   "id": "41da36a0",
   "metadata": {
    "id": "41da36a0"
   },
   "source": []
  },
  {
   "cell_type": "markdown",
   "id": "9bc04f36",
   "metadata": {
    "id": "9bc04f36"
   },
   "source": [
    "#### 6. Write a program to sort a given list using selection sort algorithm. (study selection sort and implement)"
   ]
  },
  {
   "cell_type": "code",
   "execution_count": 18,
   "id": "3abb8c1e",
   "metadata": {
    "id": "3abb8c1e"
   },
   "outputs": [
    {
     "name": "stdout",
     "output_type": "stream",
     "text": [
      "Enter a list of numbers separated by spaces: 1 2 3 54 5 4 5\n",
      "Original list: [1, 2, 3, 54, 5, 4, 5]\n",
      "Sorted list: [1, 2, 3, 4, 5, 5, 54]\n"
     ]
    }
   ],
   "source": [
    "def selection_sort(lst):\n",
    "    n = len(lst)\n",
    "\n",
    "    for i in range(n - 1):\n",
    "        # Assume the current index is the minimum\n",
    "        min_index = i\n",
    "\n",
    "        # Find the index of the minimum element in the remaining unsorted part\n",
    "        for j in range(i + 1, n):\n",
    "            if lst[j] < lst[min_index]:\n",
    "                min_index = j\n",
    "\n",
    "        # Swap the found minimum element with the first element\n",
    "        lst[i], lst[min_index] = lst[min_index], lst[i]\n",
    "\n",
    "# Example usage:\n",
    "try:\n",
    "    input_list = list(map(int, input(\"Enter a list of numbers separated by spaces: \").split()))\n",
    "    \n",
    "    print(\"Original list:\", input_list)\n",
    "    \n",
    "    # Call the selection_sort function to sort the list\n",
    "    selection_sort(input_list)\n",
    "    \n",
    "    print(\"Sorted list:\", input_list)\n",
    "except ValueError:\n",
    "    print(\"Invalid input. Please enter valid numbers.\")\n"
   ]
  },
  {
   "cell_type": "markdown",
   "id": "d2cf1bab",
   "metadata": {
    "id": "d2cf1bab"
   },
   "source": [
    "#### 7. Write a program to sort a given list using bubble sort algorithm. (Study bubble sort and implement)"
   ]
  },
  {
   "cell_type": "code",
   "execution_count": 19,
   "id": "OJAUtZLmyvMk",
   "metadata": {
    "id": "OJAUtZLmyvMk"
   },
   "outputs": [
    {
     "name": "stdout",
     "output_type": "stream",
     "text": [
      "Enter a list of numbers separated by spaces: 10 20 30 4 0 50\n",
      "Original list: [10, 20, 30, 4, 0, 50]\n",
      "Sorted list: [0, 4, 10, 20, 30, 50]\n"
     ]
    }
   ],
   "source": [
    "def bubble_sort(lst):\n",
    "    n = len(lst)\n",
    "\n",
    "    for i in range(n):\n",
    "        # Flag to optimize the algorithm (if no swaps are made, the list is already sorted)\n",
    "        swapped = False\n",
    "\n",
    "        # Last i elements are already sorted, no need to check them\n",
    "        for j in range(0, n - i - 1):\n",
    "            # If the element found is greater than the next element, swap them\n",
    "            if lst[j] > lst[j + 1]:\n",
    "                lst[j], lst[j + 1] = lst[j + 1], lst[j]\n",
    "                swapped = True\n",
    "\n",
    "        # If no two elements were swapped in the inner loop, the list is sorted\n",
    "        if not swapped:\n",
    "            break\n",
    "\n",
    "# Example usage:\n",
    "try:\n",
    "    input_list = list(map(int, input(\"Enter a list of numbers separated by spaces: \").split()))\n",
    "    \n",
    "    print(\"Original list:\", input_list)\n",
    "    \n",
    "    # Call the bubble_sort function to sort the list\n",
    "    bubble_sort(input_list)\n",
    "    \n",
    "    print(\"Sorted list:\", input_list)\n",
    "except ValueError:\n",
    "    print(\"Invalid input. Please enter valid numbers.\")\n"
   ]
  },
  {
   "cell_type": "markdown",
   "id": "1910df79",
   "metadata": {
    "id": "1910df79"
   },
   "source": [
    "#### 8. Take a string and a word and input. Find the frequenecy of occurrence of the word in the given string. (Without using any inbuilt function)"
   ]
  },
  {
   "cell_type": "code",
   "execution_count": 20,
   "id": "c50d4a3c",
   "metadata": {
    "id": "c50d4a3c"
   },
   "outputs": [
    {
     "name": "stdout",
     "output_type": "stream",
     "text": [
      "Enter a string: h hjh hkjhk hkhkj\n",
      "Enter the word to count: 2\n",
      "The word '2' occurs 0 times in the given string.\n"
     ]
    }
   ],
   "source": [
    "\n",
    "\n",
    "def count_word_occurrences(input_string, target_word):\n",
    "    # Convert both the string and the word to lowercase for case-insensitive comparison\n",
    "    input_string_lower = input_string.lower()\n",
    "    target_word_lower = target_word.lower()\n",
    "\n",
    "    # Initialize a counter for word occurrences\n",
    "    count = 0\n",
    "\n",
    "    # Iterate through the string to find occurrences of the target word\n",
    "    index = 0\n",
    "    while index < len(input_string_lower):\n",
    "        # Find the index of the target word in the remaining part of the string\n",
    "        target_index = input_string_lower.find(target_word_lower, index)\n",
    "\n",
    "        # If the target word is found, update the counter and move to the next index\n",
    "        if target_index != -1:\n",
    "            count += 1\n",
    "            index = target_index + len(target_word)\n",
    "        else:\n",
    "            # If the target word is not found, break out of the loop\n",
    "            break\n",
    "\n",
    "    return count\n",
    "\n",
    "# Example usage:\n",
    "try:\n",
    "    input_string = input(\"Enter a string: \")\n",
    "    target_word = input(\"Enter the word to count: \")\n",
    "    \n",
    "    occurrences = count_word_occurrences(input_string, target_word)\n",
    "    \n",
    "    print(f\"The word '{target_word}' occurs {occurrences} times in the given string.\")\n",
    "except ValueError:\n",
    "    print(\"Invalid input. Please enter valid strings.\")\n",
    "\n",
    "    "
   ]
  },
  {
   "cell_type": "markdown",
   "id": "b05f15de",
   "metadata": {
    "id": "b05f15de"
   },
   "source": [
    "#### 9. Write a program to print the following pattern: "
   ]
  },
  {
   "cell_type": "code",
   "execution_count": null,
   "id": "5113af76",
   "metadata": {
    "colab": {
     "base_uri": "https://localhost:8080/"
    },
    "executionInfo": {
     "elapsed": 547,
     "status": "ok",
     "timestamp": 1676753746046,
     "user": {
      "displayName": "Malathi V",
      "userId": "05981803588813056384"
     },
     "user_tz": -330
    },
    "id": "5113af76",
    "outputId": "c86dd0d3-1a32-4fef-818e-852f636f919a"
   },
   "outputs": [
    {
     "name": "stdout",
     "output_type": "stream",
     "text": [
      "\n"
     ]
    }
   ],
   "source": [
    "'''\n",
    "5 4 3 2 1\n",
    "  4 3 2 1\n",
    "    3 2 1\n",
    "      2 1\n",
    "        1\n",
    "'''\n",
    "print()"
   ]
  },
  {
   "cell_type": "code",
   "execution_count": 21,
   "id": "j7lsHqTI1-ZY",
   "metadata": {
    "id": "j7lsHqTI1-ZY"
   },
   "outputs": [
    {
     "name": "stdout",
     "output_type": "stream",
     "text": [
      "Enter the number of rows: 5\n",
      "5 4 3 2 1 \n",
      "  4 3 2 1 \n",
      "    3 2 1 \n",
      "      2 1 \n",
      "        1 \n"
     ]
    }
   ],
   "source": [
    "def print_pattern(rows):\n",
    "    for i in range(rows, 0, -1):\n",
    "        # Print spaces\n",
    "        for j in range(rows - i):\n",
    "            print(\"  \", end=\"\")\n",
    "        \n",
    "        # Print numbers in reverse order\n",
    "        for k in range(i, 0, -1):\n",
    "            print(k, end=\" \")\n",
    "        \n",
    "        # Move to the next line after each row\n",
    "        print()\n",
    "\n",
    "# Example usage:\n",
    "try:\n",
    "    rows = int(input(\"Enter the number of rows: \"))\n",
    "    \n",
    "    if rows > 0:\n",
    "        print_pattern(rows)\n",
    "    else:\n",
    "        print(\"Please enter a positive integer for the number of rows.\")\n",
    "except ValueError:\n",
    "    print(\"Invalid input. Please enter a valid integer.\")\n"
   ]
  },
  {
   "cell_type": "markdown",
   "id": "279b94c8",
   "metadata": {
    "id": "279b94c8"
   },
   "source": [
    "#### 10. Write a program to print the following pattern:"
   ]
  },
  {
   "cell_type": "code",
   "execution_count": null,
   "id": "af2c05e5",
   "metadata": {
    "colab": {
     "base_uri": "https://localhost:8080/"
    },
    "executionInfo": {
     "elapsed": 513,
     "status": "ok",
     "timestamp": 1676753758009,
     "user": {
      "displayName": "Malathi V",
      "userId": "05981803588813056384"
     },
     "user_tz": -330
    },
    "id": "af2c05e5",
    "outputId": "a05270a6-9f54-461e-a195-d46c556e048d"
   },
   "outputs": [
    {
     "name": "stdout",
     "output_type": "stream",
     "text": [
      "\n"
     ]
    }
   ],
   "source": [
    "'''\n",
    "5 4 3 2 1\n",
    "4 3 2 1\n",
    "3 2 1\n",
    "2 1\n",
    "1\n",
    "'''\n",
    "print()"
   ]
  },
  {
   "cell_type": "code",
   "execution_count": 22,
   "id": "a6502c4f",
   "metadata": {
    "id": "a6502c4f"
   },
   "outputs": [
    {
     "name": "stdout",
     "output_type": "stream",
     "text": [
      "Enter the number of rows: 5\n",
      "5 4 3 2 1 \n",
      "4 3 2 1 \n",
      "3 2 1 \n",
      "2 1 \n",
      "1 \n"
     ]
    }
   ],
   "source": [
    "def print_pattern(rows):\n",
    "    for i in range(rows, 0, -1):\n",
    "        # Print numbers in reverse order\n",
    "        for j in range(i, 0, -1):\n",
    "            print(j, end=\" \")\n",
    "        \n",
    "        # Move to the next line after each row\n",
    "        print()\n",
    "\n",
    "# Example usage:\n",
    "try:\n",
    "    rows = int(input(\"Enter the number of rows: \"))\n",
    "    \n",
    "    if rows > 0:\n",
    "        print_pattern(rows)\n",
    "    else:\n",
    "        print(\"Please enter a positive integer for the number of rows.\")\n",
    "except ValueError:\n",
    "    print(\"Invalid input. Please enter a valid integer.\")\n",
    "\n",
    "    "
   ]
  },
  {
   "cell_type": "code",
   "execution_count": null,
   "id": "48756522",
   "metadata": {},
   "outputs": [],
   "source": []
  }
 ],
 "metadata": {
  "colab": {
   "provenance": []
  },
  "kernelspec": {
   "display_name": "Python 3 (ipykernel)",
   "language": "python",
   "name": "python3"
  },
  "language_info": {
   "codemirror_mode": {
    "name": "ipython",
    "version": 3
   },
   "file_extension": ".py",
   "mimetype": "text/x-python",
   "name": "python",
   "nbconvert_exporter": "python",
   "pygments_lexer": "ipython3",
   "version": "3.11.5"
  }
 },
 "nbformat": 4,
 "nbformat_minor": 5
}
