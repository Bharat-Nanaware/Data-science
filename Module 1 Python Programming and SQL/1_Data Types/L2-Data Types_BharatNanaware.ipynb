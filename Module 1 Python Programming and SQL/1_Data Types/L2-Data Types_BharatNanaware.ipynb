{
 "cells": [
  {
   "cell_type": "markdown",
   "id": "5fad3b2a",
   "metadata": {
    "id": "5fad3b2a"
   },
   "source": [
    "# Assessment - 2 Gradable\n",
    "\n",
    "- Each question carries 3 marks\n",
    "- Marks will be assigned in terms of:\n",
    "    \n",
    "    **1. Expected output**\n",
    "    \n",
    "    **2. Quality and Explainability of code**\n",
    "\n",
    "    ***Go back through the script and type a comment above each line explaining in English what it does.***\n",
    "\n",
    "    **3. Copied code, if found, will result in 0 marks for that question. To avoid this make as much comments in the code to explain the approach**"
   ]
  },
  {
   "cell_type": "markdown",
   "id": "03363a58",
   "metadata": {
    "id": "03363a58"
   },
   "source": [
    "### 1.\n",
    "\n",
    "Write a Python program to perform following tasks on a list\n",
    "\n",
    "<ol>\n",
    "    <li>Create an empty list with name l1</li>\n",
    "    <li>Add atleast 5 number to the l1</li>\n",
    "    <li>Add 100 at 2<sup>nd</sup> position</li>\n",
    "    <li>Add 1000 at front of the l1</li>\n",
    "    <li>Delete element at 3<sup>rd</sup> position</li>\n",
    "    <li>Display elements at even position</li>\n",
    "    <li>Display elements in reverse order</li>\n",
    "</ol>"
   ]
  },
  {
   "cell_type": "code",
   "execution_count": 1,
   "id": "73d7418b",
   "metadata": {
    "id": "73d7418b"
   },
   "outputs": [
    {
     "name": "stdout",
     "output_type": "stream",
     "text": [
      "Elements at even positions:\n",
      "1000\n",
      "2\n",
      "4\n",
      "Elements in reverse order:\n",
      "5\n",
      "4\n",
      "3\n",
      "2\n",
      "1\n",
      "1000\n"
     ]
    }
   ],
   "source": [
    "# Create an empty list\n",
    "l1 = []\n",
    "\n",
    "# Add at least 5 numbers to l1\n",
    "l1.extend([1, 2, 3, 4, 5])\n",
    "\n",
    "# Add 100 at the 2nd position\n",
    "l1.insert(1, 100)\n",
    "\n",
    "# Add 1000 at the front of l1\n",
    "l1.insert(0, 1000)\n",
    "\n",
    "# Delete element at the 3rd position\n",
    "del l1[2]\n",
    "\n",
    "# Display elements at even positions\n",
    "print(\"Elements at even positions:\")\n",
    "for i in range(0, len(l1), 2):\n",
    "    print(l1[i])\n",
    "\n",
    "# Display elements in reverse order\n",
    "print(\"Elements in reverse order:\")\n",
    "for item in reversed(l1):\n",
    "    print(item)\n"
   ]
  },
  {
   "cell_type": "markdown",
   "id": "3d5efe73",
   "metadata": {
    "id": "3d5efe73"
   },
   "source": [
    "### 2. \n",
    "\n",
    "Grab ``StarAgile`` from the following Dictionaries\n",
    "\n",
    "d_difficult = {'k1':[{'nest_key':['this is deep',['StarAgile']]}]}\n",
    "\n",
    "d_irritating = {'k1':[1,2,{'k2':['this is not easy',{'VeryIrriating':[1,2,['StarAgile']]}]}]}"
   ]
  },
  {
   "cell_type": "code",
   "execution_count": 2,
   "id": "9fb35ce9",
   "metadata": {
    "id": "9fb35ce9"
   },
   "outputs": [
    {
     "name": "stdout",
     "output_type": "stream",
     "text": [
      "From d_difficult: StarAgile\n",
      "From d_irritating: StarAgile\n"
     ]
    }
   ],
   "source": [
    "d_difficult = {'k1':[{'nest_key':['this is deep',['StarAgile']]}]}\n",
    "d_irritating = {'k1':[1,2,{'k2':['this is not easy',{'VeryIrritating':[1,2,['StarAgile']]}]}]}\n",
    "\n",
    "# Grab StarAgile from d_difficult\n",
    "star_agile_difficult = d_difficult['k1'][0]['nest_key'][1][0]\n",
    "print(\"From d_difficult:\", star_agile_difficult)\n",
    "\n",
    "# Grab StarAgile from d_irritating\n",
    "star_agile_irritating = d_irritating['k1'][2]['k2'][1]['VeryIrritating'][2][0]\n",
    "print(\"From d_irritating:\", star_agile_irritating)\n"
   ]
  },
  {
   "cell_type": "markdown",
   "id": "0540a188",
   "metadata": {
    "id": "0540a188"
   },
   "source": [
    "### 3.\n",
    "\n",
    "Write a program to accept a string from the user and display characters that are present at an even index number.\n",
    "\n",
    "For example, str = \"judgemental\" so you should display ‘j’, ‘d’, ‘e’, ‘e’, ‘t’, ‘l’."
   ]
  },
  {
   "cell_type": "code",
   "execution_count": 3,
   "id": "21f5b9dd",
   "metadata": {
    "id": "21f5b9dd"
   },
   "outputs": [
    {
     "name": "stdout",
     "output_type": "stream",
     "text": [
      "Enter a string: bharat\n",
      "Characters at even index numbers: b, a, a\n"
     ]
    }
   ],
   "source": [
    "def display_even_index_characters(input_string):\n",
    "    even_characters = input_string[::2]\n",
    "    return even_characters\n",
    "\n",
    "# Get input from the user\n",
    "user_input = input(\"Enter a string: \")\n",
    "\n",
    "# Display characters at even index numbers\n",
    "result = display_even_index_characters(user_input)\n",
    "print(\"Characters at even index numbers:\", ', '.join(result))\n"
   ]
  },
  {
   "cell_type": "markdown",
   "id": "e0884cde",
   "metadata": {
    "id": "e0884cde"
   },
   "source": [
    "### 4. \n",
    "\n",
    "Convert the Float Value of '3.8' into Integer, Complex, Binary and Hexidecimal format"
   ]
  },
  {
   "cell_type": "code",
   "execution_count": 4,
   "id": "99555c16",
   "metadata": {
    "id": "99555c16"
   },
   "outputs": [
    {
     "name": "stdout",
     "output_type": "stream",
     "text": [
      "Float as Integer: 3\n",
      "Float as Complex: (3.8+0j)\n",
      "Float as Binary: 0b11\n",
      "Float as Hexadecimal: 0x3\n"
     ]
    }
   ],
   "source": [
    "float_value = 3.8\n",
    "\n",
    "# Convert to integer\n",
    "int_value = int(float_value)\n",
    "print(\"Float as Integer:\", int_value)\n",
    "\n",
    "# Convert to complex\n",
    "complex_value = complex(float_value)\n",
    "print(\"Float as Complex:\", complex_value)\n",
    "\n",
    "# Convert to binary\n",
    "binary_value = bin(int_value)\n",
    "print(\"Float as Binary:\", binary_value)\n",
    "\n",
    "# Convert to hexadecimal\n",
    "hex_value = hex(int_value)\n",
    "print(\"Float as Hexadecimal:\", hex_value)\n"
   ]
  },
  {
   "cell_type": "markdown",
   "id": "25187f2c",
   "metadata": {
    "id": "25187f2c"
   },
   "source": [
    "### 5. \n",
    "\n",
    "Write a program to accept five names from the user and store it in a Tuple 'T1'"
   ]
  },
  {
   "cell_type": "code",
   "execution_count": 5,
   "id": "7e9e98e3",
   "metadata": {
    "id": "7e9e98e3"
   },
   "outputs": [
    {
     "name": "stdout",
     "output_type": "stream",
     "text": [
      "Enter name 1: bharat\n",
      "Enter name 2: vedant\n",
      "Enter name 3: anish\n",
      "Enter name 4: snehal\n",
      "Enter name 5: tulsi\n",
      "Tuple T1 containing the names: ('bharat', 'vedant', 'anish', 'snehal', 'tulsi')\n"
     ]
    }
   ],
   "source": [
    "# Accept five names from the user\n",
    "names = []\n",
    "for i in range(5):\n",
    "    name = input(f\"Enter name {i + 1}: \")\n",
    "    names.append(name)\n",
    "\n",
    "# Store the names in a tuple\n",
    "T1 = tuple(names)\n",
    "\n",
    "# Display the tuple T1\n",
    "print(\"Tuple T1 containing the names:\", T1)\n"
   ]
  }
 ],
 "metadata": {
  "colab": {
   "provenance": []
  },
  "kernelspec": {
   "display_name": "Python 3 (ipykernel)",
   "language": "python",
   "name": "python3"
  },
  "language_info": {
   "codemirror_mode": {
    "name": "ipython",
    "version": 3
   },
   "file_extension": ".py",
   "mimetype": "text/x-python",
   "name": "python",
   "nbconvert_exporter": "python",
   "pygments_lexer": "ipython3",
   "version": "3.11.5"
  }
 },
 "nbformat": 4,
 "nbformat_minor": 5
}
