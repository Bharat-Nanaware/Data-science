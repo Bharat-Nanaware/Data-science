{
 "cells": [
  {
   "cell_type": "markdown",
   "id": "9cacd9e4",
   "metadata": {
    "id": "9cacd9e4"
   },
   "source": [
    "# Data Types & Basic Programs\n",
    "- Write solution of each question in the cell given below the corresponsing question."
   ]
  },
  {
   "cell_type": "markdown",
   "id": "a36a3683",
   "metadata": {
    "id": "a36a3683"
   },
   "source": [
    "#### 1. Write a program to take principal amount, rate and interest as input and calculate simple interest."
   ]
  },
  {
   "cell_type": "code",
   "execution_count": 5,
   "id": "iyGa2yN7bkZL",
   "metadata": {
    "colab": {
     "base_uri": "https://localhost:8080/",
     "height": 130
    },
    "executionInfo": {
     "elapsed": 8,
     "status": "error",
     "timestamp": 1682422665028,
     "user": {
      "displayName": "saylee morey",
      "userId": "14399473198527863861"
     },
     "user_tz": -330
    },
    "id": "iyGa2yN7bkZL",
    "outputId": "43c86045-073b-48a6-b7fb-8895e19b4b9c"
   },
   "outputs": [
    {
     "name": "stdout",
     "output_type": "stream",
     "text": [
      "Enter the principal amount: 100\n",
      "Enter the rate of interest: 10\n",
      "Enter the time period (in years): 1\n",
      "The simple interest is: 10.0\n"
     ]
    }
   ],
   "source": [
    "def calculate_simple_interest(principal, rate, time):\n",
    "    # Calculate simple interest\n",
    "    interest = (principal * rate * time) / 100\n",
    "    return interest\n",
    "\n",
    "# Input principal amount, rate, and time\n",
    "principal_amount = float(input(\"Enter the principal amount: \"))\n",
    "rate_of_interest = float(input(\"Enter the rate of interest: \"))\n",
    "time_period = float(input(\"Enter the time period (in years): \"))\n",
    "\n",
    "# Calculate simple interest using the function\n",
    "simple_interest = calculate_simple_interest(principal_amount, rate_of_interest, time_period)\n",
    "\n",
    "# Display the simple interest\n",
    "print(f\"The simple interest is: {simple_interest}\")\n"
   ]
  },
  {
   "cell_type": "markdown",
   "id": "3a9994e0",
   "metadata": {
    "id": "3a9994e0"
   },
   "source": [
    "#### 2. Write a program that takes a string as input and prints the number of words in the string."
   ]
  },
  {
   "cell_type": "code",
   "execution_count": 1,
   "id": "9VbTZFFQfHCm",
   "metadata": {
    "id": "9VbTZFFQfHCm"
   },
   "outputs": [
    {
     "name": "stdout",
     "output_type": "stream",
     "text": [
      "Enter a string: bharat\n",
      "The number of words in the string is: 1\n"
     ]
    }
   ],
   "source": [
    "def count_words(input_string):\n",
    "    # Split the string into words\n",
    "    words = input_string.split()\n",
    "    \n",
    "    # Count the number of words\n",
    "    num_words = len(words)\n",
    "    \n",
    "    return num_words\n",
    "\n",
    "# Get input from the user\n",
    "user_input = input(\"Enter a string: \")\n",
    "\n",
    "# Call the function and display the result\n",
    "word_count = count_words(user_input)\n",
    "print(f\"The number of words in the string is: {word_count}\")\n"
   ]
  },
  {
   "cell_type": "markdown",
   "id": "8a8d5e27",
   "metadata": {
    "id": "8a8d5e27"
   },
   "source": [
    "#### 3. Write a program to take a list of numbers as input (in a single line) and print the sum, avg, max and min elements."
   ]
  },
  {
   "cell_type": "code",
   "execution_count": 2,
   "id": "OUlGO6fiVlU7",
   "metadata": {
    "id": "OUlGO6fiVlU7"
   },
   "outputs": [
    {
     "name": "stdout",
     "output_type": "stream",
     "text": [
      "Enter a list of numbers separated by spaces: 12 13 14 15 16 17\n",
      "Sum of the numbers: 87.0\n",
      "Average of the numbers: 14.5\n",
      "Maximum number: 17.0\n",
      "Minimum number: 12.0\n"
     ]
    }
   ],
   "source": [
    "def calculate_stats(num_list):\n",
    "    # Calculate sum, average, max, and min\n",
    "    total_sum = sum(num_list)\n",
    "    avg = total_sum / len(num_list)\n",
    "    max_num = max(num_list)\n",
    "    min_num = min(num_list)\n",
    "    \n",
    "    return total_sum, avg, max_num, min_num\n",
    "\n",
    "# Get input from the user\n",
    "num_list = list(map(float, input(\"Enter a list of numbers separated by spaces: \").split()))\n",
    "\n",
    "# Call the function to calculate statistics\n",
    "sum_result, average_result, max_result, min_result = calculate_stats(num_list)\n",
    "\n",
    "# Display the results\n",
    "print(f\"Sum of the numbers: {sum_result}\")\n",
    "print(f\"Average of the numbers: {average_result}\")\n",
    "print(f\"Maximum number: {max_result}\")\n",
    "print(f\"Minimum number: {min_result}\")\n",
    "\n"
   ]
  },
  {
   "cell_type": "markdown",
   "id": "17dbd6e8",
   "metadata": {
    "id": "17dbd6e8"
   },
   "source": [
    "#### 4. Write a program to take the marks of 3 students in five subjects each as a list (one list for each input) as input and print the average score of each student.."
   ]
  },
  {
   "cell_type": "code",
   "execution_count": 3,
   "id": "BTd2sM7i9sui",
   "metadata": {
    "id": "BTd2sM7i9sui"
   },
   "outputs": [
    {
     "name": "stdout",
     "output_type": "stream",
     "text": [
      "Enter marks of student 1 in five subjects separated by spaces:  10 20 30 40 50\n",
      "Enter marks of student 2 in five subjects separated by spaces: 10 20 30 40 50 \n",
      "Enter marks of student 3 in five subjects separated by spaces: 20 30 40 50 60 70\n",
      "Average score of student 1: 30.0\n",
      "Average score of student 2: 30.0\n",
      "Average score of student 3: 45.0\n"
     ]
    }
   ],
   "source": [
    "\n",
    "def calculate_average(marks_list):\n",
    "    # Calculate average score for each student\n",
    "    averages = []\n",
    "    for student_marks in marks_list:\n",
    "        avg = sum(student_marks) / len(student_marks)\n",
    "        averages.append(avg)\n",
    "    return averages\n",
    "\n",
    "# Get input for each student's marks\n",
    "marks_list = []\n",
    "for i in range(3):\n",
    "    student_marks = list(map(float, input(f\"Enter marks of student {i + 1} in five subjects separated by spaces: \").split()))\n",
    "    marks_list.append(student_marks)\n",
    "\n",
    "# Calculate and display the average score for each student\n",
    "averages = calculate_average(marks_list)\n",
    "for i, avg in enumerate(averages):\n",
    "    print(f\"Average score of student {i + 1}: {avg}\")\n"
   ]
  },
  {
   "cell_type": "markdown",
   "id": "39fb8526",
   "metadata": {
    "id": "39fb8526"
   },
   "source": [
    "#### 5. Write a program to take a list as input containing results of 10 coin tosses as 'H' or 'T'. Jon gets a point for each 'T' and Tom gets a point for each 'H'. print the points recieved by both."
   ]
  },
  {
   "cell_type": "code",
   "execution_count": 4,
   "id": "Ijvfc63fHr8B",
   "metadata": {
    "id": "Ijvfc63fHr8B"
   },
   "outputs": [
    {
     "name": "stdout",
     "output_type": "stream",
     "text": [
      "Enter the results of 10 coin tosses (use 'H' for heads and 'T' for tails): HTHTHTHTHTHTHTHTHT\n",
      "Jon's points: 9\n",
      "Tom's points: 9\n"
     ]
    }
   ],
   "source": [
    "def calculate_points(results):\n",
    "    # Initialize points for Jon and Tom\n",
    "    jon_points = results.count('T')\n",
    "    tom_points = results.count('H')\n",
    "    \n",
    "    return jon_points, tom_points\n",
    "\n",
    "# Get input for coin toss results\n",
    "results = input(\"Enter the results of 10 coin tosses (use 'H' for heads and 'T' for tails): \")\n",
    "\n",
    "# Calculate and display points for Jon and Tom\n",
    "jon_points, tom_points = calculate_points(results)\n",
    "print(f\"Jon's points: {jon_points}\")\n",
    "print(f\"Tom's points: {tom_points}\")\n",
    " \n",
    "\n"
   ]
  },
  {
   "cell_type": "markdown",
   "id": "4a6dc391",
   "metadata": {
    "id": "4a6dc391"
   },
   "source": [
    "#### 6. Take two numbers as input and print the result after swapping them. (Without using multiple assignment and any extra variable)."
   ]
  },
  {
   "cell_type": "code",
   "execution_count": 5,
   "id": "oiSoXznqZbC_",
   "metadata": {
    "id": "oiSoXznqZbC_"
   },
   "outputs": [
    {
     "name": "stdout",
     "output_type": "stream",
     "text": [
      "Enter the first number: 10\n",
      "Enter the second number: 20\n",
      "Before swapping: a = 10.0, b = 20.0\n",
      "After swapping: a = 20.0, b = 10.0\n"
     ]
    }
   ],
   "source": [
    "def swap_numbers(a, b):\n",
    "    print(f\"Before swapping: a = {a}, b = {b}\")\n",
    "    \n",
    "    a = a + b\n",
    "    b = a - b\n",
    "    a = a - b\n",
    "    \n",
    "    print(f\"After swapping: a = {a}, b = {b}\")\n",
    "\n",
    "# Get input for two numbers\n",
    "num1 = float(input(\"Enter the first number: \"))\n",
    "num2 = float(input(\"Enter the second number: \"))\n",
    "\n",
    "# Call the function to swap the numbers\n",
    "swap_numbers(num1, num2)\n",
    "\n"
   ]
  },
  {
   "cell_type": "markdown",
   "id": "b0059e36",
   "metadata": {
    "id": "b0059e36"
   },
   "source": [
    "#### 7. Take a list as input in a single line containing 10 numbers as marks out of 100. The even positions in the list are marks of Tom and the odd positions are the marks of Jon. Calculate the average marks of both."
   ]
  },
  {
   "cell_type": "code",
   "execution_count": 6,
   "id": "dzK-bSIM6rh6",
   "metadata": {
    "id": "dzK-bSIM6rh6"
   },
   "outputs": [
    {
     "name": "stdout",
     "output_type": "stream",
     "text": [
      "Enter 10 marks out of 100 separated by spaces: 10 20 30 40 50 60 70 80 90 100\n",
      "Tom's average marks: 50.0\n",
      "Jon's average marks: 60.0\n"
     ]
    }
   ],
   "source": [
    "def calculate_average_marks(marks_list):\n",
    "    # Separate Tom's and Jon's marks\n",
    "    tom_marks = marks_list[::2]  # Extract marks at even positions (0-based index)\n",
    "    jon_marks = marks_list[1::2]  # Extract marks at odd positions (0-based index)\n",
    "\n",
    "    # Calculate averages\n",
    "    tom_avg = sum(tom_marks) / len(tom_marks)\n",
    "    jon_avg = sum(jon_marks) / len(jon_marks)\n",
    "\n",
    "    return tom_avg, jon_avg\n",
    "\n",
    "# Get input for marks\n",
    "marks_input = list(map(int, input(\"Enter 10 marks out of 100 separated by spaces: \").split()))\n",
    "\n",
    "# Calculate average marks for Tom and Jon\n",
    "tom_average, jon_average = calculate_average_marks(marks_input)\n",
    "\n",
    "print(f\"Tom's average marks: {tom_average}\")\n",
    "print(f\"Jon's average marks: {jon_average}\")\n"
   ]
  },
  {
   "cell_type": "markdown",
   "id": "f07dab7c",
   "metadata": {
    "id": "f07dab7c"
   },
   "source": [
    "#### 8. Take a string and a character as input. Print the result having the character between each word of the given string."
   ]
  },
  {
   "cell_type": "code",
   "execution_count": 8,
   "id": "Bak8JEWdAAFv",
   "metadata": {
    "id": "Bak8JEWdAAFv"
   },
   "outputs": [
    {
     "name": "stdout",
     "output_type": "stream",
     "text": [
      "Enter a string: B H A\n",
      "Enter a character to insert between words: b\n",
      "BbHbA\n"
     ]
    }
   ],
   "source": [
    "def insert_character_between_words(input_string, character):\n",
    "    result = input_string.split()\n",
    "    result = character.join(result)\n",
    "    print(result)\n",
    "\n",
    "# Get input string and character\n",
    "input_str = input(\"Enter a string: \")\n",
    "char = input(\"Enter a character to insert between words: \")\n",
    "\n",
    "# Call the function to insert character between words and print the result\n",
    "insert_character_between_words(input_str, char)\n",
    "\n"
   ]
  },
  {
   "cell_type": "markdown",
   "id": "a45320b7",
   "metadata": {
    "id": "a45320b7"
   },
   "source": [
    "#### 9. Create a dictionary having three items. Key of each item is the name of a student, value associated with each key is a list of marks in five subjects. Given this dictionary print the average score of each student."
   ]
  },
  {
   "cell_type": "code",
   "execution_count": 9,
   "id": "_WpSWzXdLyri",
   "metadata": {
    "id": "_WpSWzXdLyri"
   },
   "outputs": [
    {
     "name": "stdout",
     "output_type": "stream",
     "text": [
      "Average score of Alice: 86.6\n",
      "Average score of Bob: 84.2\n",
      "Average score of Charlie: 86.6\n"
     ]
    }
   ],
   "source": [
    "def calculate_average(scores_dict):\n",
    "    averages = {}\n",
    "    for student, marks in scores_dict.items():\n",
    "        avg = sum(marks) / len(marks)\n",
    "        averages[student] = avg\n",
    "    return averages\n",
    "\n",
    "# Example dictionary with student names as keys and marks as values\n",
    "students_marks = {\n",
    "    'Alice': [85, 92, 78, 90, 88],\n",
    "    'Bob': [76, 85, 92, 88, 80],\n",
    "    'Charlie': [90, 88, 78, 82, 95]\n",
    "}\n",
    "\n",
    "# Calculate and print average score of each student\n",
    "averages = calculate_average(students_marks)\n",
    "for student, avg in averages.items():\n",
    "    print(f\"Average score of {student}: {avg}\")\n"
   ]
  },
  {
   "cell_type": "markdown",
   "id": "aba63bd1",
   "metadata": {
    "id": "aba63bd1"
   },
   "source": [
    "#### 10. Take a string as input(may contain repetitive words), print a list consisting of unique words from the given string."
   ]
  },
  {
   "cell_type": "code",
   "execution_count": 11,
   "id": "Wrc5hOBIF-ww",
   "metadata": {
    "id": "Wrc5hOBIF-ww"
   },
   "outputs": [
    {
     "name": "stdout",
     "output_type": "stream",
     "text": [
      "Enter a string: b h a r a t n a a w a r e\n",
      "Unique words in the string: ['h', 'a', 'n', 'b', 'r', 'w', 't', 'e']\n"
     ]
    }
   ],
   "source": [
    "def extract_unique_words(input_string):\n",
    "    words = input_string.split()\n",
    "    unique_words = list(set(words))\n",
    "    return unique_words\n",
    "\n",
    "# Get input string\n",
    "user_input = input(\"Enter a string: \")\n",
    "\n",
    "# Extract unique words and print the list\n",
    "unique_words_list = extract_unique_words(user_input)\n",
    "print(\"Unique words in the string:\", unique_words_list)\n"
   ]
  }
 ],
 "metadata": {
  "colab": {
   "provenance": []
  },
  "kernelspec": {
   "display_name": "Python 3 (ipykernel)",
   "language": "python",
   "name": "python3"
  },
  "language_info": {
   "codemirror_mode": {
    "name": "ipython",
    "version": 3
   },
   "file_extension": ".py",
   "mimetype": "text/x-python",
   "name": "python",
   "nbconvert_exporter": "python",
   "pygments_lexer": "ipython3",
   "version": "3.11.5"
  }
 },
 "nbformat": 4,
 "nbformat_minor": 5
}
