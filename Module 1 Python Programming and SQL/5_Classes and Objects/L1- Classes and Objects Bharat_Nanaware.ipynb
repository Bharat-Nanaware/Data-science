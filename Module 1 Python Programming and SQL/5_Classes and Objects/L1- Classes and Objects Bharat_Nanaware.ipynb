{
 "cells": [
  {
   "cell_type": "markdown",
   "id": "8a30d880",
   "metadata": {
    "id": "8a30d880"
   },
   "source": [
    "# Assessment - 6 Gradable\n",
    "\n",
    "- Each question carries 5 or 4 marks\n",
    "- Marks will be assigned in terms of:\n",
    "    \n",
    "    **1. Expected output**\n",
    "    \n",
    "    **2. Quality and Explainability of code**\n",
    "\n",
    "    ***Go back through the script and type a comment above each line explaining in English what it does.***\n",
    "\n",
    "    **3. Copied code, if found, will result in 0 marks for that question. To avoid this make as much comments in the code to explain the approach**"
   ]
  },
  {
   "cell_type": "markdown",
   "id": "86255064",
   "metadata": {
    "id": "86255064"
   },
   "source": [
    "### 1. \n",
    "\n",
    "Write a Program to create a class 'Company' and using the class instance and print all the writable attributes of that object such as age, gender, salary, profession and designation. We take atleast 5 employees of an organization"
   ]
  },
  {
   "cell_type": "code",
   "execution_count": 1,
   "id": "4a098962",
   "metadata": {
    "id": "4a098962"
   },
   "outputs": [
    {
     "name": "stdout",
     "output_type": "stream",
     "text": [
      "Employee: Employee1\n",
      "Writable Attributes:\n",
      "name: Employee1\n",
      "age: 30\n",
      "gender: Male\n",
      "salary: 50000\n",
      "profession: Engineer\n",
      "designation: Software Developer\n",
      "\n",
      "Employee: Employee2\n",
      "Writable Attributes:\n",
      "name: Employee2\n",
      "age: 35\n",
      "gender: Female\n",
      "salary: 60000\n",
      "profession: Manager\n",
      "designation: Project Manager\n",
      "\n",
      "Employee: Employee3\n",
      "Writable Attributes:\n",
      "name: Employee3\n",
      "age: 28\n",
      "gender: Male\n",
      "salary: 45000\n",
      "profession: Designer\n",
      "designation: UI/UX Designer\n",
      "\n",
      "Employee: Employee4\n",
      "Writable Attributes:\n",
      "name: Employee4\n",
      "age: 32\n",
      "gender: Female\n",
      "salary: 55000\n",
      "profession: Analyst\n",
      "designation: Business Analyst\n",
      "\n",
      "Employee: Employee5\n",
      "Writable Attributes:\n",
      "name: Employee5\n",
      "age: 40\n",
      "gender: Male\n",
      "salary: 70000\n",
      "profession: Executive\n",
      "designation: Senior Manager\n",
      "\n"
     ]
    }
   ],
   "source": [
    "class Company:\n",
    "    def __init__(self, name, age, gender, salary, profession, designation):\n",
    "        self.name = name\n",
    "        self.age = age\n",
    "        self.gender = gender\n",
    "        self.salary = salary\n",
    "        self.profession = profession\n",
    "        self.designation = designation\n",
    "\n",
    "# Create instances of the Company class for 5 employees\n",
    "employees = [\n",
    "    Company(\"Employee1\", 30, \"Male\", 50000, \"Engineer\", \"Software Developer\"),\n",
    "    Company(\"Employee2\", 35, \"Female\", 60000, \"Manager\", \"Project Manager\"),\n",
    "    Company(\"Employee3\", 28, \"Male\", 45000, \"Designer\", \"UI/UX Designer\"),\n",
    "    Company(\"Employee4\", 32, \"Female\", 55000, \"Analyst\", \"Business Analyst\"),\n",
    "    Company(\"Employee5\", 40, \"Male\", 70000, \"Executive\", \"Senior Manager\")\n",
    "]\n",
    "\n",
    "# Print writable attributes of each employee\n",
    "for employee in employees:\n",
    "    print(f\"Employee: {employee.name}\")\n",
    "    print(f\"Writable Attributes:\")\n",
    "    for attribute, value in employee.__dict__.items():\n",
    "        if not attribute.startswith('__') and not callable(getattr(employee, attribute)):\n",
    "            print(f\"{attribute}: {value}\")\n",
    "    print()\n"
   ]
  },
  {
   "cell_type": "markdown",
   "id": "df5c6917",
   "metadata": {
    "id": "df5c6917"
   },
   "source": [
    "### 2. \n",
    "\n",
    "Write a program to store details of 6 customers in a text file with features of Unique Customer Id, Name, Location, Phone Number, Last Purchase Date for an ecommerce website that canbe considered for future records\n"
   ]
  },
  {
   "cell_type": "code",
   "execution_count": 2,
   "id": "6aaac08a",
   "metadata": {
    "id": "6aaac08a"
   },
   "outputs": [
    {
     "name": "stdout",
     "output_type": "stream",
     "text": [
      "Customers details saved to file.\n",
      "\n",
      "Loaded Customers:\n",
      "Customer ID: 1001\n",
      "Name: John Doe\n",
      "Location: New York\n",
      "Phone Number: 1234567890\n",
      "Last Purchase Date: 2023-01-15\n",
      "\n",
      "Customer ID: 1002\n",
      "Name: Jane Smith\n",
      "Location: Los Angeles\n",
      "Phone Number: 9876543210\n",
      "Last Purchase Date: 2023-02-20\n",
      "\n",
      "Customer ID: 1003\n",
      "Name: Michael Johnson\n",
      "Location: Chicago\n",
      "Phone Number: 5678901234\n",
      "Last Purchase Date: 2023-03-25\n",
      "\n",
      "Customer ID: 1004\n",
      "Name: Emily Brown\n",
      "Location: Houston\n",
      "Phone Number: 9012345678\n",
      "Last Purchase Date: 2023-04-30\n",
      "\n",
      "Customer ID: 1005\n",
      "Name: William Taylor\n",
      "Location: San Francisco\n",
      "Phone Number: 3456789012\n",
      "Last Purchase Date: 2023-05-10\n",
      "\n",
      "Customer ID: 1006\n",
      "Name: Sophia Martinez\n",
      "Location: Miami\n",
      "Phone Number: 7890123456\n",
      "Last Purchase Date: 2023-06-15\n",
      "\n"
     ]
    }
   ],
   "source": [
    "class Customer:\n",
    "    def __init__(self, customer_id, name, location, phone_number, last_purchase_date):\n",
    "        self.customer_id = customer_id\n",
    "        self.name = name\n",
    "        self.location = location\n",
    "        self.phone_number = phone_number\n",
    "        self.last_purchase_date = last_purchase_date\n",
    "\n",
    "def save_customers_to_file(customers, filename):\n",
    "    with open(filename, 'w') as file:\n",
    "        for customer in customers:\n",
    "            file.write(f\"{customer.customer_id},{customer.name},{customer.location},{customer.phone_number},{customer.last_purchase_date}\\n\")\n",
    "\n",
    "def load_customers_from_file(filename):\n",
    "    customers = []\n",
    "    with open(filename, 'r') as file:\n",
    "        for line in file:\n",
    "            data = line.strip().split(',')\n",
    "            customer = Customer(data[0], data[1], data[2], data[3], data[4])\n",
    "            customers.append(customer)\n",
    "    return customers\n",
    "\n",
    "# Create instances of the Customer class for 6 customers\n",
    "customers = [\n",
    "    Customer(\"1001\", \"John Doe\", \"New York\", \"1234567890\", \"2023-01-15\"),\n",
    "    Customer(\"1002\", \"Jane Smith\", \"Los Angeles\", \"9876543210\", \"2023-02-20\"),\n",
    "    Customer(\"1003\", \"Michael Johnson\", \"Chicago\", \"5678901234\", \"2023-03-25\"),\n",
    "    Customer(\"1004\", \"Emily Brown\", \"Houston\", \"9012345678\", \"2023-04-30\"),\n",
    "    Customer(\"1005\", \"William Taylor\", \"San Francisco\", \"3456789012\", \"2023-05-10\"),\n",
    "    Customer(\"1006\", \"Sophia Martinez\", \"Miami\", \"7890123456\", \"2023-06-15\")\n",
    "]\n",
    "\n",
    "# Save customers to a text file\n",
    "filename = \"customer_details.txt\"\n",
    "save_customers_to_file(customers, filename)\n",
    "print(\"Customers details saved to file.\")\n",
    "\n",
    "# Load customers from the text file and print their details\n",
    "loaded_customers = load_customers_from_file(filename)\n",
    "print(\"\\nLoaded Customers:\")\n",
    "for customer in loaded_customers:\n",
    "    print(f\"Customer ID: {customer.customer_id}\")\n",
    "    print(f\"Name: {customer.name}\")\n",
    "    print(f\"Location: {customer.location}\")\n",
    "    print(f\"Phone Number: {customer.phone_number}\")\n",
    "    print(f\"Last Purchase Date: {customer.last_purchase_date}\")\n",
    "    print()\n"
   ]
  },
  {
   "cell_type": "markdown",
   "id": "51f22264",
   "metadata": {
    "id": "51f22264"
   },
   "source": [
    "### 3. \n",
    "\n",
    "Build a Simple Calculator using Exception Handling (try, except) that solves 4 arithmetic operations like Addition, Subtraction, Multiplication and Division.\n"
   ]
  },
  {
   "cell_type": "code",
   "execution_count": 3,
   "id": "5b52eb5c",
   "metadata": {
    "id": "5b52eb5c"
   },
   "outputs": [
    {
     "name": "stdout",
     "output_type": "stream",
     "text": [
      "Select operation:\n",
      "1. Addition\n",
      "2. Subtraction\n",
      "3. Multiplication\n",
      "4. Division\n",
      "5. Exit\n",
      "Enter choice (1/2/3/4/5): 2\n",
      "Enter first number: 20\n",
      "Enter second number: 10\n",
      "Result: 10.0\n",
      "Select operation:\n",
      "1. Addition\n",
      "2. Subtraction\n",
      "3. Multiplication\n",
      "4. Division\n",
      "5. Exit\n",
      "Enter choice (1/2/3/4/5): 5\n",
      "Exiting the calculator.\n"
     ]
    }
   ],
   "source": [
    "def add(x, y):\n",
    "    return x + y\n",
    "\n",
    "def subtract(x, y):\n",
    "    return x - y\n",
    "\n",
    "def multiply(x, y):\n",
    "    return x * y\n",
    "\n",
    "def divide(x, y):\n",
    "    return x / y\n",
    "\n",
    "while True:\n",
    "    try:\n",
    "        print(\"Select operation:\")\n",
    "        print(\"1. Addition\")\n",
    "        print(\"2. Subtraction\")\n",
    "        print(\"3. Multiplication\")\n",
    "        print(\"4. Division\")\n",
    "        print(\"5. Exit\")\n",
    "\n",
    "        choice = int(input(\"Enter choice (1/2/3/4/5): \"))\n",
    "\n",
    "        if choice == 5:\n",
    "            print(\"Exiting the calculator.\")\n",
    "            break\n",
    "\n",
    "        num1 = float(input(\"Enter first number: \"))\n",
    "        num2 = float(input(\"Enter second number: \"))\n",
    "\n",
    "        if choice == 1:\n",
    "            print(\"Result:\", add(num1, num2))\n",
    "        elif choice == 2:\n",
    "            print(\"Result:\", subtract(num1, num2))\n",
    "        elif choice == 3:\n",
    "            print(\"Result:\", multiply(num1, num2))\n",
    "        elif choice == 4:\n",
    "            if num2 == 0:\n",
    "                raise ZeroDivisionError(\"Error: Division by zero is not allowed\")\n",
    "            else:\n",
    "                print(\"Result:\", divide(num1, num2))\n",
    "        else:\n",
    "            print(\"Invalid input! Please enter a valid number (1/2/3/4/5)\")\n",
    "    \n",
    "    except ValueError:\n",
    "        print(\"Invalid input! Please enter a valid number.\")\n",
    "    except ZeroDivisionError as e:\n",
    "        print(e)\n",
    "    except Exception as e:\n",
    "        print(\"An error occurred:\", e)\n"
   ]
  }
 ],
 "metadata": {
  "colab": {
   "provenance": []
  },
  "kernelspec": {
   "display_name": "Python 3 (ipykernel)",
   "language": "python",
   "name": "python3"
  },
  "language_info": {
   "codemirror_mode": {
    "name": "ipython",
    "version": 3
   },
   "file_extension": ".py",
   "mimetype": "text/x-python",
   "name": "python",
   "nbconvert_exporter": "python",
   "pygments_lexer": "ipython3",
   "version": "3.11.5"
  }
 },
 "nbformat": 4,
 "nbformat_minor": 5
}
