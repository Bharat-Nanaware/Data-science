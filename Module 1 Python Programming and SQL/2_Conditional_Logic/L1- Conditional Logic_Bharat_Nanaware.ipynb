{
 "cells": [
  {
   "cell_type": "markdown",
   "id": "c6ec5c42",
   "metadata": {
    "id": "c6ec5c42"
   },
   "source": [
    "# Assessment - 3 Gradable\n",
    "\n",
    "- Each question carries 3 or 4 marks\n",
    "- Marks will be assigned in terms of:\n",
    "    \n",
    "    **1. Expected output**\n",
    "    \n",
    "    **2. Quality and Explainability of code**\n",
    "\n",
    "    ***Go back through the script and type a comment above each line explaining in English what it does.***\n",
    "\n",
    "    **3. Copied code, if found, will result in 0 marks for that question. To avoid this make as much comments in the code to explain the approach**"
   ]
  },
  {
   "cell_type": "markdown",
   "id": "8698053e",
   "metadata": {
    "id": "8698053e"
   },
   "source": [
    "### 1.\n",
    "\n",
    "Go through the string below and if the length of a word is even print \"even!\"\n",
    "\n",
    "string = 'I know how to print every word in this sentence that has an even number of letters'"
   ]
  },
  {
   "cell_type": "code",
   "execution_count": 5,
   "id": "4dec28a9",
   "metadata": {
    "id": "4dec28a9"
   },
   "outputs": [
    {
     "name": "stdout",
     "output_type": "stream",
     "text": [
      "\"know\" is even!\n",
      "\"to\" is even!\n",
      "\"word\" is even!\n",
      "\"in\" is even!\n",
      "\"this\" is even!\n",
      "\"sentence\" is even!\n",
      "\"that\" is even!\n",
      "\"an\" is even!\n",
      "\"even\" is even!\n",
      "\"number\" is even!\n",
      "\"of\" is even!\n"
     ]
    }
   ],
   "source": [
    "string = 'I know how to print every word in this sentence that has an even number of letters'\n",
    "\n",
    "# Split the string into words\n",
    "words = string.split()\n",
    "\n",
    "# Iterate through each word\n",
    "for word in words:\n",
    "    # Check if the length of the word is even\n",
    "    if len(word) % 2 == 0:\n",
    "        print(f'\"{word}\" is even!')\n"
   ]
  },
  {
   "cell_type": "markdown",
   "id": "8569bc4e",
   "metadata": {
    "id": "8569bc4e"
   },
   "source": [
    "### 2. \n",
    "\n",
    "Write a program to check given number is odd or even\n",
    "\n",
    "Hint:\n",
    "- 20 is even\n",
    "- 27 is odd"
   ]
  },
  {
   "cell_type": "code",
   "execution_count": 1,
   "id": "9ccfca15",
   "metadata": {
    "id": "9ccfca15"
   },
   "outputs": [
    {
     "name": "stdout",
     "output_type": "stream",
     "text": [
      "Enter a number: 3\n",
      "3 is odd.\n"
     ]
    }
   ],
   "source": [
    "def check_odd_or_even(number):\n",
    "    if number % 2 == 0:\n",
    "        print(f\"{number} is even.\")\n",
    "    else:\n",
    "        print(f\"{number} is odd.\")\n",
    "\n",
    "# Example usage:\n",
    "user_input = int(input(\"Enter a number: \"))\n",
    "check_odd_or_even(user_input)\n"
   ]
  },
  {
   "cell_type": "markdown",
   "id": "40759409",
   "metadata": {
    "id": "40759409"
   },
   "source": [
    "### 3.\n",
    "\n",
    "Write a program to check given number is divisible by 6 or not\n",
    "\n",
    "Hint:\n",
    "24 is divisible by 6\n",
    "27 is not divisible by 6"
   ]
  },
  {
   "cell_type": "code",
   "execution_count": 2,
   "id": "f7409469",
   "metadata": {
    "id": "f7409469"
   },
   "outputs": [
    {
     "name": "stdout",
     "output_type": "stream",
     "text": [
      "Enter a number: 36\n",
      "36 is divisible by 6.\n"
     ]
    }
   ],
   "source": [
    "def check_divisibility_by_six(number):\n",
    "    if number % 6 == 0:\n",
    "        print(f\"{number} is divisible by 6.\")\n",
    "    else:\n",
    "        print(f\"{number} is not divisible by 6.\")\n",
    "\n",
    "# Example usage:\n",
    "user_input = int(input(\"Enter a number: \"))\n",
    "check_divisibility_by_six(user_input)\n"
   ]
  },
  {
   "cell_type": "markdown",
   "id": "0dd3847a",
   "metadata": {
    "id": "0dd3847a"
   },
   "source": [
    "### 4. \n",
    "\n",
    "Create a list containing the following 3 elements:\n",
    "\n",
    "- Subject person had taken\n",
    "- Marks Achieved\n",
    "- a boolean value showing previous programming experience\n",
    "\n",
    "print all details and also print person has programming experience or not"
   ]
  },
  {
   "cell_type": "code",
   "execution_count": 3,
   "id": "5c87efcb",
   "metadata": {
    "id": "5c87efcb"
   },
   "outputs": [
    {
     "name": "stdout",
     "output_type": "stream",
     "text": [
      "Subject taken: Mathematics\n",
      "Marks achieved: 85\n",
      "Programming experience: True\n",
      "The person has programming experience.\n"
     ]
    }
   ],
   "source": [
    "# Create a list with subject, marks, and programming experience\n",
    "student_details = [\"Mathematics\", 85, True]\n",
    "\n",
    "# Unpack the list elements\n",
    "subject_taken, marks_achieved, programming_experience = student_details\n",
    "\n",
    "# Print all details\n",
    "print(f\"Subject taken: {subject_taken}\")\n",
    "print(f\"Marks achieved: {marks_achieved}\")\n",
    "print(f\"Programming experience: {programming_experience}\")\n",
    "\n",
    "# Check if the person has programming experience\n",
    "if programming_experience:\n",
    "    print(\"The person has programming experience.\")\n",
    "else:\n",
    "    print(\"The person does not have programming experience.\")\n"
   ]
  },
  {
   "cell_type": "markdown",
   "id": "a54510f0",
   "metadata": {
    "id": "a54510f0"
   },
   "source": [
    "### 5.\n",
    "\n",
    "Write a program to check sum of all elements in a list is greater than 100 or not\n",
    "\n",
    "Hint:\n",
    "- [11, 13, 17, 19, 11] --> sum is not greater than 100\n",
    "- [24, 36, 30, 31, 42] --> sum is greater than 100"
   ]
  },
  {
   "cell_type": "code",
   "execution_count": 4,
   "id": "5d53ba1f",
   "metadata": {
    "id": "5d53ba1f"
   },
   "outputs": [
    {
     "name": "stdout",
     "output_type": "stream",
     "text": [
      "The sum of elements [11, 13, 17, 19, 11] is not greater than 100.\n",
      "The sum of elements [24, 36, 30, 31, 42] is greater than 100.\n"
     ]
    }
   ],
   "source": [
    "def check_sum_greater_than_100(numbers):\n",
    "    total_sum = sum(numbers)\n",
    "    \n",
    "    if total_sum > 100:\n",
    "        print(f\"The sum of elements {numbers} is greater than 100.\")\n",
    "    else:\n",
    "        print(f\"The sum of elements {numbers} is not greater than 100.\")\n",
    "\n",
    "# Example usage:\n",
    "list1 = [11, 13, 17, 19, 11]\n",
    "check_sum_greater_than_100(list1)\n",
    "\n",
    "list2 = [24, 36, 30, 31, 42]\n",
    "check_sum_greater_than_100(list2)\n"
   ]
  }
 ],
 "metadata": {
  "colab": {
   "provenance": []
  },
  "kernelspec": {
   "display_name": "Python 3 (ipykernel)",
   "language": "python",
   "name": "python3"
  },
  "language_info": {
   "codemirror_mode": {
    "name": "ipython",
    "version": 3
   },
   "file_extension": ".py",
   "mimetype": "text/x-python",
   "name": "python",
   "nbconvert_exporter": "python",
   "pygments_lexer": "ipython3",
   "version": "3.11.5"
  }
 },
 "nbformat": 4,
 "nbformat_minor": 5
}
