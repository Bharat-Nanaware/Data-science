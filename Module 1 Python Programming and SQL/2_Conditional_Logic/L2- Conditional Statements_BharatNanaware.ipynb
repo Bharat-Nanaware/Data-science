{
 "cells": [
  {
   "cell_type": "markdown",
   "id": "3a10df7a",
   "metadata": {
    "id": "3a10df7a"
   },
   "source": [
    "# Conditional Statements\n",
    "- Write solution of each question in the cell given below the corresponsing question."
   ]
  },
  {
   "cell_type": "markdown",
   "id": "60c2d89a",
   "metadata": {
    "id": "60c2d89a"
   },
   "source": [
    "#### 1. Take a list of numbers as input. Print whether the average is even or odd."
   ]
  },
  {
   "cell_type": "code",
   "execution_count": 1,
   "id": "Fh5bSu8vCRWU",
   "metadata": {
    "id": "Fh5bSu8vCRWU"
   },
   "outputs": [
    {
     "name": "stdout",
     "output_type": "stream",
     "text": [
      "Enter a list of numbers separated by space: 2 3 4 5 6 7 8 9\n",
      "The average 5.5 is odd.\n"
     ]
    }
   ],
   "source": [
    "def check_average_even_or_odd(numbers):\n",
    "    average = sum(numbers) / len(numbers)\n",
    "    \n",
    "    if average % 2 == 0:\n",
    "        print(f\"The average {average} is even.\")\n",
    "    else:\n",
    "        print(f\"The average {average} is odd.\")\n",
    "\n",
    "# Take a list of numbers as input\n",
    "user_input = input(\"Enter a list of numbers separated by space: \")\n",
    "numbers = [int(x) for x in user_input.split()]\n",
    "\n",
    "# Check and print whether the average is even or odd\n",
    "check_average_even_or_odd(numbers)\n"
   ]
  },
  {
   "cell_type": "markdown",
   "id": "4846bb19",
   "metadata": {
    "id": "4846bb19"
   },
   "source": [
    "#### 2. Take three strings as input. Calculate the number of words in each string and find out the list having highest number of words."
   ]
  },
  {
   "cell_type": "code",
   "execution_count": 3,
   "id": "pfGpZ9okCTfV",
   "metadata": {
    "id": "pfGpZ9okCTfV"
   },
   "outputs": [
    {
     "name": "stdout",
     "output_type": "stream",
     "text": [
      "Enter the first string: dd d\n",
      "Enter the second string: d\n",
      "Enter the third string: df sfds fdsf\n",
      "\n",
      "Number of words in the first string: 2\n",
      "Number of words in the second string: 1\n",
      "Number of words in the third string: 3\n",
      "\n",
      "The third string has the highest number of words.\n"
     ]
    }
   ],
   "source": [
    "def count_words(sentence):\n",
    "    words = sentence.split()\n",
    "    return len(words)\n",
    "\n",
    "# Take three strings as input\n",
    "string1 = input(\"Enter the first string: \")\n",
    "string2 = input(\"Enter the second string: \")\n",
    "string3 = input(\"Enter the third string: \")\n",
    "\n",
    "# Calculate the number of words in each string\n",
    "word_count1 = count_words(string1)\n",
    "word_count2 = count_words(string2)\n",
    "word_count3 = count_words(string3)\n",
    "\n",
    "# Find the list with the highest number of words\n",
    "max_word_count = max(word_count1, word_count2, word_count3)\n",
    "\n",
    "# Print the results\n",
    "print(f\"\\nNumber of words in the first string: {word_count1}\")\n",
    "print(f\"Number of words in the second string: {word_count2}\")\n",
    "print(f\"Number of words in the third string: {word_count3}\")\n",
    "\n",
    "if max_word_count == word_count1:\n",
    "    print(\"\\nThe first string has the highest number of words.\")\n",
    "elif max_word_count == word_count2:\n",
    "    print(\"\\nThe second string has the highest number of words.\")\n",
    "else:\n",
    "    print(\"\\nThe third string has the highest number of words.\")\n",
    "\n"
   ]
  },
  {
   "cell_type": "markdown",
   "id": "0e0d8196",
   "metadata": {
    "id": "0e0d8196"
   },
   "source": [
    "#### 3. Take four numbers as input in a single line. Find out the largest number."
   ]
  },
  {
   "cell_type": "code",
   "execution_count": 4,
   "id": "Fc_7ETl1CVMu",
   "metadata": {
    "id": "Fc_7ETl1CVMu"
   },
   "outputs": [
    {
     "name": "stdout",
     "output_type": "stream",
     "text": [
      "Enter four numbers separated by space: 4 5 6 7 \n",
      "The largest number is: 7\n"
     ]
    }
   ],
   "source": [
    "# Take four numbers as input in a single line\n",
    "user_input = input(\"Enter four numbers separated by space: \")\n",
    "numbers = [int(x) for x in user_input.split()]\n",
    "\n",
    "# Find the largest number\n",
    "largest_number = max(numbers)\n",
    "\n",
    "# Print the result\n",
    "print(f\"The largest number is: {largest_number}\")\n"
   ]
  },
  {
   "cell_type": "markdown",
   "id": "16c0440a",
   "metadata": {
    "id": "16c0440a"
   },
   "source": [
    "#### 4. Take four numbers as input and find the second largest numer."
   ]
  },
  {
   "cell_type": "code",
   "execution_count": 5,
   "id": "RuBQfFAHWAlL",
   "metadata": {
    "id": "RuBQfFAHWAlL"
   },
   "outputs": [
    {
     "name": "stdout",
     "output_type": "stream",
     "text": [
      "Enter the first number: 1\n",
      "Enter the second number: 5\n",
      "Enter the third number: 8\n",
      "Enter the fourth number: 9\n",
      "The second largest number is: 8.0\n"
     ]
    }
   ],
   "source": [
    "# Take four numbers as input\n",
    "number1 = float(input(\"Enter the first number: \"))\n",
    "number2 = float(input(\"Enter the second number: \"))\n",
    "number3 = float(input(\"Enter the third number: \"))\n",
    "number4 = float(input(\"Enter the fourth number: \"))\n",
    "\n",
    "# Find the second largest number\n",
    "numbers = [number1, number2, number3, number4]\n",
    "numbers.sort()  # Sort the list in ascending order\n",
    "second_largest = numbers[-2]\n",
    "\n",
    "# Print the result\n",
    "print(f\"The second largest number is: {second_largest}\")\n"
   ]
  },
  {
   "cell_type": "markdown",
   "id": "2f6641a4",
   "metadata": {
    "id": "2f6641a4"
   },
   "source": [
    "#### 5. Create a dictionary having three items. Key of each item is the name of a student, value associated with each key is a list of marks in five subjects. Given this dictionary print the top and lowest scorers."
   ]
  },
  {
   "cell_type": "code",
   "execution_count": 6,
   "id": "R5C1C61OYuls",
   "metadata": {
    "id": "R5C1C61OYuls"
   },
   "outputs": [
    {
     "name": "stdout",
     "output_type": "stream",
     "text": [
      "Top scorer: Student2 with total marks 436\n",
      "Lowest scorer: Student1 with total marks 433\n"
     ]
    }
   ],
   "source": [
    "# Create a dictionary with student names as keys and marks in five subjects as values\n",
    "student_marks = {\n",
    "    'Student1': [85, 90, 78, 92, 88],\n",
    "    'Student2': [76, 84, 92, 89, 95],\n",
    "    'Student3': [92, 88, 90, 85, 79]\n",
    "}\n",
    "\n",
    "# Calculate total marks for each student\n",
    "total_marks = {student: sum(marks) for student, marks in student_marks.items()}\n",
    "\n",
    "# Find the top scorer and lowest scorer\n",
    "top_scorer = max(total_marks, key=total_marks.get)\n",
    "lowest_scorer = min(total_marks, key=total_marks.get)\n",
    "\n",
    "# Print the results\n",
    "print(f\"Top scorer: {top_scorer} with total marks {total_marks[top_scorer]}\")\n",
    "print(f\"Lowest scorer: {lowest_scorer} with total marks {total_marks[lowest_scorer]}\")\n"
   ]
  },
  {
   "cell_type": "markdown",
   "id": "64db0791",
   "metadata": {
    "id": "64db0791"
   },
   "source": [
    "#### 6. Create a dictionary (called data) of having at least 5 items : Usernames as keys and Passwords as values. Write a program that takes a username and a password as input. If the credentials match any iteam in the given dictionary data then print acces granted otherwise print whether username, password or both are wrong."
   ]
  },
  {
   "cell_type": "code",
   "execution_count": 7,
   "id": "WtqLAvhiazaM",
   "metadata": {
    "id": "WtqLAvhiazaM"
   },
   "outputs": [
    {
     "name": "stdout",
     "output_type": "stream",
     "text": [
      "Enter your username: bharat\n",
      "Enter your password: 123\n",
      "Both username and password are wrong.\n"
     ]
    }
   ],
   "source": [
    "# Create a dictionary with usernames as keys and passwords as values\n",
    "data = {\n",
    "    'user1': 'password1',\n",
    "    'user2': 'password2',\n",
    "    'user3': 'password3',\n",
    "    'user4': 'password4',\n",
    "    'user5': 'password5'\n",
    "}\n",
    "\n",
    "# Take user input for username and password\n",
    "username_input = input(\"Enter your username: \")\n",
    "password_input = input(\"Enter your password: \")\n",
    "\n",
    "# Check if the credentials match any item in the dictionary\n",
    "if username_input in data and password_input == data[username_input]:\n",
    "    print(\"Access granted!\")\n",
    "else:\n",
    "    if username_input not in data and password_input not in data.values():\n",
    "        print(\"Both username and password are wrong.\")\n",
    "    elif username_input not in data:\n",
    "        print(\"Username is wrong.\")\n",
    "    else:\n",
    "        print(\"Password is wrong.\")\n"
   ]
  },
  {
   "cell_type": "markdown",
   "id": "27c56bb8",
   "metadata": {
    "id": "27c56bb8"
   },
   "source": [
    "#### 7. Take a list as input in a single line containing 15 numbers as marks out of 100. The first five numbers in the list are marks of Tom, the middle 5 numbers are marks of Bob and the last 5 are the marks of Jon. Find out the top and lowest scorer."
   ]
  },
  {
   "cell_type": "code",
   "execution_count": 8,
   "id": "ah156U4T9iat",
   "metadata": {
    "id": "ah156U4T9iat"
   },
   "outputs": [
    {
     "name": "stdout",
     "output_type": "stream",
     "text": [
      "Enter 15 numbers separated by space: 1 2 3 4 5 6 7 8 9 10 11 12 13 14 15\n",
      "\n",
      "Total marks for Tom: 15\n",
      "Total marks for Bob: 40\n",
      "Total marks for Jon: 65\n",
      "\n",
      "Top scorer: Jon with total marks 65\n",
      "Lowest scorer: Tom with total marks 15\n"
     ]
    }
   ],
   "source": [
    "\n",
    "# Take a list of 15 numbers as input\n",
    "marks_input = input(\"Enter 15 numbers separated by space: \")\n",
    "marks_list = [int(x) for x in marks_input.split()]\n",
    "\n",
    "# Separate the marks for Tom, Bob, and Jon\n",
    "tom_marks = marks_list[:5]\n",
    "bob_marks = marks_list[5:10]\n",
    "jon_marks = marks_list[10:]\n",
    "\n",
    "# Calculate total marks for each student\n",
    "tom_total = sum(tom_marks)\n",
    "bob_total = sum(bob_marks)\n",
    "jon_total = sum(jon_marks)\n",
    "\n",
    "# Create a dictionary with student names and their total marks\n",
    "student_totals = {'Tom': tom_total, 'Bob': bob_total, 'Jon': jon_total}\n",
    "\n",
    "# Find the top scorer and lowest scorer\n",
    "top_scorer = max(student_totals, key=student_totals.get)\n",
    "lowest_scorer = min(student_totals, key=student_totals.get)\n",
    "\n",
    "# Print the results\n",
    "print(f\"\\nTotal marks for Tom: {tom_total}\")\n",
    "print(f\"Total marks for Bob: {bob_total}\")\n",
    "print(f\"Total marks for Jon: {jon_total}\")\n",
    "print(f\"\\nTop scorer: {top_scorer} with total marks {student_totals[top_scorer]}\")\n",
    "print(f\"Lowest scorer: {lowest_scorer} with total marks {student_totals[lowest_scorer]}\")"
   ]
  },
  {
   "cell_type": "markdown",
   "id": "20f59542",
   "metadata": {
    "id": "20f59542"
   },
   "source": [
    "#### 8. Take a number as input and print whether the number is a multiple of 3,5 or both."
   ]
  },
  {
   "cell_type": "code",
   "execution_count": 9,
   "id": "otWg3MXaYing",
   "metadata": {
    "id": "otWg3MXaYing"
   },
   "outputs": [
    {
     "name": "stdout",
     "output_type": "stream",
     "text": [
      "Enter a number: 10\n",
      "10 is a multiple of 5 but not 3.\n"
     ]
    }
   ],
   "source": [
    "# Take a number as input\n",
    "user_input = int(input(\"Enter a number: \"))\n",
    "\n",
    "# Check if the number is a multiple of 3, 5, or both\n",
    "if user_input % 3 == 0 and user_input % 5 == 0:\n",
    "    print(f\"{user_input} is a multiple of both 3 and 5.\")\n",
    "elif user_input % 3 == 0:\n",
    "    print(f\"{user_input} is a multiple of 3 but not 5.\")\n",
    "elif user_input % 5 == 0:\n",
    "    print(f\"{user_input} is a multiple of 5 but not 3.\")\n",
    "else:\n",
    "    print(f\"{user_input} is not a multiple of 3 or 5.\")\n"
   ]
  },
  {
   "cell_type": "markdown",
   "id": "b770e791",
   "metadata": {
    "id": "b770e791"
   },
   "source": [
    "#### 9. Write a program to take three strings as input and print the string having second largest number of words."
   ]
  },
  {
   "cell_type": "code",
   "execution_count": 12,
   "id": "BIaLOJ6eEvGO",
   "metadata": {
    "id": "BIaLOJ6eEvGO"
   },
   "outputs": [
    {
     "name": "stdout",
     "output_type": "stream",
     "text": [
      "Enter the first string: b \n",
      "Enter the second string: b b\n",
      "Enter the third string: b b b\n",
      "The second largest string is: b b\n"
     ]
    }
   ],
   "source": [
    "def count_words(sentence):\n",
    "    words = sentence.split()\n",
    "    return len(words)\n",
    "\n",
    "# Take three strings as input\n",
    "string1 = input(\"Enter the first string: \")\n",
    "string2 = input(\"Enter the second string: \")\n",
    "string3 = input(\"Enter the third string: \")\n",
    "\n",
    "# Calculate the number of words in each string\n",
    "word_count1 = count_words(string1)\n",
    "word_count2 = count_words(string2)\n",
    "word_count3 = count_words(string3)\n",
    "\n",
    "# Find the second largest number of words\n",
    "counts = [word_count1, word_count2, word_count3]\n",
    "counts.sort(reverse=True)\n",
    "second_largest_count = counts[1]\n",
    "\n",
    "# Print the string with the second largest number of words\n",
    "if word_count1 == second_largest_count:\n",
    "    print(f\"The second largest string is: {string1}\")\n",
    "elif word_count2 == second_largest_count:\n",
    "    print(f\"The second largest string is: {string2}\")\n",
    "else:\n",
    "    print(f\"The second largest string is: {string3}\")\n"
   ]
  },
  {
   "cell_type": "markdown",
   "id": "5a485c8c",
   "metadata": {
    "id": "5a485c8c"
   },
   "source": [
    "#### 10. Write a program to take four strings as input and print the string having third highest number of words."
   ]
  },
  {
   "cell_type": "code",
   "execution_count": 13,
   "id": "19Wx8OZqk3UQ",
   "metadata": {
    "id": "19Wx8OZqk3UQ"
   },
   "outputs": [
    {
     "name": "stdout",
     "output_type": "stream",
     "text": [
      "Enter the first string: fg \n",
      "Enter the second string: f d f\n",
      "Enter the third string: d\n",
      "Enter the fourth string: d f f f \n",
      "The third highest string is: fg \n"
     ]
    }
   ],
   "source": [
    "def count_words(sentence):\n",
    "    words = sentence.split()\n",
    "    return len(words)\n",
    "\n",
    "# Take four strings as input\n",
    "string1 = input(\"Enter the first string: \")\n",
    "string2 = input(\"Enter the second string: \")\n",
    "string3 = input(\"Enter the third string: \")\n",
    "string4 = input(\"Enter the fourth string: \")\n",
    "\n",
    "# Calculate the number of words in each string\n",
    "word_count1 = count_words(string1)\n",
    "word_count2 = count_words(string2)\n",
    "word_count3 = count_words(string3)\n",
    "word_count4 = count_words(string4)\n",
    "\n",
    "# Find the third-highest number of words\n",
    "counts = [word_count1, word_count2, word_count3, word_count4]\n",
    "counts.sort(reverse=True)\n",
    "third_highest_count = counts[2]\n",
    "\n",
    "# Print the string with the third-highest number of words\n",
    "if word_count1 == third_highest_count:\n",
    "    print(f\"The third highest string is: {string1}\")\n",
    "elif word_count2 == third_highest_count:\n",
    "    print(f\"The third highest string is: {string2}\")\n",
    "elif word_count3 == third_highest_count:\n",
    "    print(f\"The third highest string is: {string3}\")\n",
    "else:\n",
    "    print(f\"The third highest string is: {string4}\")\n"
   ]
  },
  {
   "cell_type": "code",
   "execution_count": null,
   "id": "6f776df6",
   "metadata": {},
   "outputs": [],
   "source": []
  }
 ],
 "metadata": {
  "colab": {
   "provenance": []
  },
  "kernelspec": {
   "display_name": "Python 3 (ipykernel)",
   "language": "python",
   "name": "python3"
  },
  "language_info": {
   "codemirror_mode": {
    "name": "ipython",
    "version": 3
   },
   "file_extension": ".py",
   "mimetype": "text/x-python",
   "name": "python",
   "nbconvert_exporter": "python",
   "pygments_lexer": "ipython3",
   "version": "3.11.5"
  }
 },
 "nbformat": 4,
 "nbformat_minor": 5
}
