{
 "cells": [
  {
   "cell_type": "code",
   "execution_count": 1,
   "id": "35b00641",
   "metadata": {},
   "outputs": [
    {
     "name": "stdout",
     "output_type": "stream",
     "text": [
      "Requirement already satisfied: mysql-connector-python in d:\\anaconda\\lib\\site-packages (8.3.0)\n",
      "Note: you may need to restart the kernel to use updated packages.\n"
     ]
    }
   ],
   "source": [
    "pip install mysql-connector-python"
   ]
  },
  {
   "cell_type": "code",
   "execution_count": 2,
   "id": "560580d6",
   "metadata": {},
   "outputs": [],
   "source": [
    "import mysql.connector"
   ]
  },
  {
   "cell_type": "code",
   "execution_count": 5,
   "id": "85bb091d",
   "metadata": {},
   "outputs": [
    {
     "name": "stdout",
     "output_type": "stream",
     "text": [
      "('hr',)\n",
      "('information_schema',)\n",
      "('module1',)\n",
      "('mysql',)\n",
      "('performance_schema',)\n",
      "('sys',)\n"
     ]
    }
   ],
   "source": [
    "mydb = mysql.connector.connect(host=\"localhost\",user=\"root\",password=\"Bharat#12\",)\n",
    "mycursor = mydb.cursor()\n",
    "\n",
    "mycursor.execute(\"SHOW DATABASES\")\n",
    "\n",
    "for x in mycursor:\n",
    "    print(x)"
   ]
  },
  {
   "cell_type": "code",
   "execution_count": 15,
   "id": "a5fe0ede",
   "metadata": {},
   "outputs": [
    {
     "name": "stdout",
     "output_type": "stream",
     "text": [
      "Connected to MySQL successfully\n",
      "Data inserted successfully\n",
      "Error executing INSERT MANY query: 1062 (23000): Duplicate entry '102' for key 'employee.PRIMARY'\n",
      "Data updated successfully\n",
      "Data deleted successfully\n"
     ]
    }
   ],
   "source": [
    "import mysql.connector\n",
    "\n",
    "# Function to establish a connection to MySQL\n",
    "def connect_to_mysql():\n",
    "    try:\n",
    "        connection = mysql.connector.connect(\n",
    "            host=\"localhost\",\n",
    "            user=\"root\",\n",
    "            password=\"Bharat#12\",\n",
    "            database=\"module1\"\n",
    "        )\n",
    "        print(\"Connected to MySQL successfully\")\n",
    "        return connection\n",
    "    except mysql.connector.Error as error:\n",
    "        print(\"Failed to connect to MySQL: {}\".format(error))\n",
    "        return None\n",
    "\n",
    "# Function to execute select query\n",
    "def select_query(connection, query):\n",
    "    cursor = connection.cursor()\n",
    "    try:\n",
    "        cursor.execute(query)\n",
    "        result = cursor.fetchall()\n",
    "        return result\n",
    "    except mysql.connector.Error as error:\n",
    "        print(\"Error executing SELECT query: {}\".format(error))\n",
    "        return None\n",
    "    finally:\n",
    "        cursor.close()\n",
    "\n",
    "# Function to execute insert query\n",
    "def insert_query(connection, query, values):\n",
    "    cursor = connection.cursor()\n",
    "    try:\n",
    "        cursor.execute(query, values)\n",
    "        connection.commit()\n",
    "        print(\"Data inserted successfully\")\n",
    "    except mysql.connector.Error as error:\n",
    "        print(\"Error executing INSERT query: {}\".format(error))\n",
    "    finally:\n",
    "        cursor.close()\n",
    "\n",
    "# Function to execute insert many query\n",
    "def insert_many_query(connection, query, values):\n",
    "    cursor = connection.cursor()\n",
    "    try:\n",
    "        cursor.executemany(query, values)\n",
    "        connection.commit()\n",
    "        print(\"Data inserted successfully\")\n",
    "    except mysql.connector.Error as error:\n",
    "        print(\"Error executing INSERT MANY query: {}\".format(error))\n",
    "    finally:\n",
    "        cursor.close()\n",
    "\n",
    "# Function to execute update query\n",
    "def update_query(connection, query, values):\n",
    "    cursor = connection.cursor()\n",
    "    try:\n",
    "        cursor.execute(query, values)\n",
    "        connection.commit()\n",
    "        print(\"Data updated successfully\")\n",
    "    except mysql.connector.Error as error:\n",
    "        print(\"Error executing UPDATE query: {}\".format(error))\n",
    "    finally:\n",
    "        cursor.close()\n",
    "\n",
    "# Function to execute delete query\n",
    "def delete_query(connection, query, values):\n",
    "    cursor = connection.cursor()\n",
    "    try:\n",
    "        cursor.execute(query, values)\n",
    "        connection.commit()\n",
    "        print(\"Data deleted successfully\")\n",
    "    except mysql.connector.Error as error:\n",
    "        print(\"Error executing DELETE query: {}\".format(error))\n",
    "    finally:\n",
    "        cursor.close()\n",
    "\n",
    "# Test the functions\n",
    "connection = connect_to_mysql()\n",
    "if connection:\n",
    "    # Test select query\n",
    "    select_query(connection, \"SELECT * FROM employee\")\n",
    "\n",
    "    # Test insert query\n",
    "    insert_query(connection, \"INSERT INTO employee (emp_id, f_name, l_name, age, gender, salary, city, dept) VALUES (%s, %s, %s, %s, %s, %s, %s, %s)\", (101, \"John\", \"Doe\", 30, \"Male\", 50000, \"New York\", \"IT\"))\n",
    "\n",
    "    # Test insert many query\n",
    "    insert_many_query(connection, \"INSERT INTO employee (emp_id, f_name, l_name, age, gender, salary, city, dept) VALUES (%s, %s, %s, %s, %s, %s, %s, %s)\", [(102, \"Jane\", \"Doe\", 28, \"Female\", 60000, \"Los Angeles\", \"HR\"), (103, \"Mike\", \"Smith\", 35, \"Male\", 70000, \"Chicago\", \"Finance\")])\n",
    "\n",
    "    # Test update query\n",
    "    update_query(connection, \"UPDATE employee SET salary = %s WHERE emp_id = %s\", (55000, 101))\n",
    "\n",
    "    # Test delete query\n",
    "    delete_query(connection, \"DELETE FROM employee WHERE emp_id = %s\", (101,))\n",
    "\n",
    "    connection.close()"
   ]
  },
  {
   "cell_type": "code",
   "execution_count": null,
   "id": "17b1f4f7",
   "metadata": {},
   "outputs": [],
   "source": []
  }
 ],
 "metadata": {
  "kernelspec": {
   "display_name": "Python 3 (ipykernel)",
   "language": "python",
   "name": "python3"
  },
  "language_info": {
   "codemirror_mode": {
    "name": "ipython",
    "version": 3
   },
   "file_extension": ".py",
   "mimetype": "text/x-python",
   "name": "python",
   "nbconvert_exporter": "python",
   "pygments_lexer": "ipython3",
   "version": "3.11.5"
  }
 },
 "nbformat": 4,
 "nbformat_minor": 5
}
