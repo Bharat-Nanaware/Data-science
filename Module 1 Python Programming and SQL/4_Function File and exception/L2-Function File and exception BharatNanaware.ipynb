{
 "cells": [
  {
   "cell_type": "markdown",
   "id": "4f1596de",
   "metadata": {
    "id": "4f1596de"
   },
   "source": [
    "# Functions\n",
    "- Write solution of each question in the cell given below the corresponsing question.\n",
    "- Function taking input refers to input as a parameter / argument being passed."
   ]
  },
  {
   "cell_type": "markdown",
   "id": "6f0d9ac3",
   "metadata": {
    "id": "6f0d9ac3"
   },
   "source": [
    "#### 1. Create a function that takes a list of numbers as input and returns the median."
   ]
  },
  {
   "cell_type": "code",
   "execution_count": 25,
   "id": "0a090145",
   "metadata": {
    "id": "0a090145"
   },
   "outputs": [
    {
     "name": "stdout",
     "output_type": "stream",
     "text": [
      "Enter the number of elements: 5\n",
      "Enter element 1: 45\n",
      "Enter element 2: 1\n",
      "Enter element 3: 2\n",
      "Enter element 4: 65\n",
      "Enter element 5: 8\n",
      "Median: 8.0\n"
     ]
    }
   ],
   "source": [
    "def calculate_median(numbers):\n",
    "    sorted_numbers = sorted(numbers)\n",
    "    length = len(sorted_numbers)\n",
    "\n",
    "    # Check if the length of the list is even or odd\n",
    "    if length % 2 == 0:\n",
    "        middle1 = sorted_numbers[length // 2 - 1]\n",
    "        middle2 = sorted_numbers[length // 2]\n",
    "        median = (middle1 + middle2) / 2\n",
    "    else:\n",
    "        median = sorted_numbers[length // 2]\n",
    "\n",
    "    return median\n",
    "\n",
    "def get_numbers_from_user():\n",
    "    numbers = []\n",
    "    try:\n",
    "        num_count = int(input(\"Enter the number of elements: \"))\n",
    "        for i in range(num_count):\n",
    "            num = float(input(f\"Enter element {i + 1}: \"))\n",
    "            numbers.append(num)\n",
    "    except ValueError:\n",
    "        print(\"Invalid input. Please enter valid numbers.\")\n",
    "    return numbers\n",
    "\n",
    "# Example usage:\n",
    "user_numbers = get_numbers_from_user()\n",
    "result = calculate_median(user_numbers)\n",
    "\n",
    "if result is not None:\n",
    "    print(f\"Median: {result}\")\n",
    "else:\n",
    "    print(\"Cannot calculate median for an empty list.\")\n"
   ]
  },
  {
   "cell_type": "code",
   "execution_count": null,
   "id": "zsPDITuiIhY7",
   "metadata": {
    "id": "zsPDITuiIhY7"
   },
   "outputs": [],
   "source": []
  },
  {
   "cell_type": "markdown",
   "id": "18a107c4",
   "metadata": {
    "id": "18a107c4"
   },
   "source": [
    "#### 2. Create a function that takes a list of numbers as input and returns the mean."
   ]
  },
  {
   "cell_type": "code",
   "execution_count": 27,
   "id": "Vy8v3p_hIgsc",
   "metadata": {
    "id": "Vy8v3p_hIgsc"
   },
   "outputs": [
    {
     "name": "stdout",
     "output_type": "stream",
     "text": [
      "Enter the number of elements: 5\n",
      "Enter element 1: 12\n",
      "Enter element 2: 14\n",
      "Enter element 3: 1\n",
      "Enter element 4: 45\n",
      "Enter element 5: 50\n",
      "Mean: 24.4\n"
     ]
    }
   ],
   "source": [
    "def calculate_mean(numbers):\n",
    "    if not numbers:\n",
    "        return None  # Return None for an empty list to avoid division by zero\n",
    "\n",
    "    total = sum(numbers)\n",
    "    mean = total / len(numbers)\n",
    "    return mean\n",
    "\n",
    "def get_numbers_from_user():\n",
    "    numbers = []\n",
    "    try:\n",
    "        num_count = int(input(\"Enter the number of elements: \"))\n",
    "        for i in range(num_count):\n",
    "            num = float(input(f\"Enter element {i + 1}: \"))\n",
    "            numbers.append(num)\n",
    "    except ValueError:\n",
    "        print(\"Invalid input. Please enter valid numbers.\")\n",
    "    return numbers\n",
    "\n",
    "# Example usage:\n",
    "user_numbers = get_numbers_from_user()\n",
    "result = calculate_mean(user_numbers)\n",
    "\n",
    "if result is not None:\n",
    "    print(f\"Mean: {result}\")\n",
    "else:\n",
    "    print(\"Cannot calculate mean for an empty list.\")\n"
   ]
  },
  {
   "cell_type": "code",
   "execution_count": null,
   "id": "9533b14a",
   "metadata": {
    "id": "9533b14a"
   },
   "outputs": [],
   "source": []
  },
  {
   "cell_type": "markdown",
   "id": "34df49cf",
   "metadata": {
    "id": "34df49cf"
   },
   "source": [
    "#### 3. Create a function that takes a list of numbers as input and returns the standard deviation."
   ]
  },
  {
   "cell_type": "code",
   "execution_count": 28,
   "id": "5a089785",
   "metadata": {
    "id": "5a089785"
   },
   "outputs": [
    {
     "name": "stdout",
     "output_type": "stream",
     "text": [
      "Enter the number of elements: 5\n",
      "Enter element 1: 14\n",
      "Enter element 2: 41\n",
      "Enter element 3: 45\n",
      "Enter element 4: 54\n",
      "Enter element 5: 56\n",
      "Standard Deviation: 15.05988047761336\n"
     ]
    }
   ],
   "source": [
    "import math\n",
    "\n",
    "def calculate_mean(numbers):\n",
    "    if not numbers:\n",
    "        return None  # Return None for an empty list to avoid division by zero\n",
    "\n",
    "    total = sum(numbers)\n",
    "    mean = total / len(numbers)\n",
    "    return mean\n",
    "\n",
    "def calculate_standard_deviation(numbers):\n",
    "    if not numbers:\n",
    "        return None  # Return None for an empty list\n",
    "\n",
    "    mean = calculate_mean(numbers)\n",
    "    squared_diff = [(num - mean) ** 2 for num in numbers]\n",
    "    variance = sum(squared_diff) / len(numbers)\n",
    "    std_deviation = math.sqrt(variance)\n",
    "    return std_deviation\n",
    "\n",
    "def get_numbers_from_user():\n",
    "    numbers = []\n",
    "    try:\n",
    "        num_count = int(input(\"Enter the number of elements: \"))\n",
    "        for i in range(num_count):\n",
    "            num = float(input(f\"Enter element {i + 1}: \"))\n",
    "            numbers.append(num)\n",
    "    except ValueError:\n",
    "        print(\"Invalid input. Please enter valid numbers.\")\n",
    "    return numbers\n",
    "\n",
    "# Example usage:\n",
    "user_numbers = get_numbers_from_user()\n",
    "result = calculate_standard_deviation(user_numbers)\n",
    "\n",
    "if result is not None:\n",
    "    print(f\"Standard Deviation: {result}\")\n",
    "else:\n",
    "    print(\"Cannot calculate standard deviation for an empty list.\")\n"
   ]
  },
  {
   "cell_type": "code",
   "execution_count": null,
   "id": "7QrYx5jiLON6",
   "metadata": {
    "id": "7QrYx5jiLON6"
   },
   "outputs": [],
   "source": []
  },
  {
   "cell_type": "markdown",
   "id": "9cc39352",
   "metadata": {
    "id": "9cc39352"
   },
   "source": [
    "#### 4. Create a function that takes a number as input and return True if the number is prime , False if not."
   ]
  },
  {
   "cell_type": "code",
   "execution_count": 30,
   "id": "722fc2fa",
   "metadata": {
    "id": "722fc2fa"
   },
   "outputs": [
    {
     "name": "stdout",
     "output_type": "stream",
     "text": [
      "Enter a number: 12\n",
      "Is Prime: False\n"
     ]
    }
   ],
   "source": [
    "def is_prime(num):\n",
    "    if num < 2:\n",
    "        return False\n",
    "    for i in range(2, int(num**0.5) + 1):\n",
    "        if num % i == 0:\n",
    "            return False\n",
    "    return True\n",
    "\n",
    "def check_prime_from_user():\n",
    "    try:\n",
    "        num = int(input(\"Enter a number: \"))\n",
    "        return is_prime(num)\n",
    "    except ValueError:\n",
    "        print(\"Invalid input. Please enter a valid number.\")\n",
    "        return None\n",
    "\n",
    "# Example usage:\n",
    "result = check_prime_from_user()\n",
    "\n",
    "if result is not None:\n",
    "    print(f\"Is Prime: {result}\")\n",
    "else:\n",
    "    print(\"Cannot determine primality for an invalid input.\")\n"
   ]
  },
  {
   "cell_type": "markdown",
   "id": "4029f3a8",
   "metadata": {
    "id": "4029f3a8"
   },
   "source": [
    "#### 5. Create a function that takes a list of numbers as input and returns the variance."
   ]
  },
  {
   "cell_type": "code",
   "execution_count": 31,
   "id": "83d19248",
   "metadata": {
    "id": "83d19248"
   },
   "outputs": [
    {
     "name": "stdout",
     "output_type": "stream",
     "text": [
      "Enter the number of elements: 5\n",
      "Enter element 1: 14\n",
      "Enter element 2: 12\n",
      "Enter element 3: 13\n",
      "Enter element 4: 25\n",
      "Enter element 5: 52\n",
      "Variance: 229.36000000000004\n"
     ]
    }
   ],
   "source": [
    "def calculate_mean(numbers):\n",
    "    if not numbers:\n",
    "        return None  # Return None for an empty list to avoid division by zero\n",
    "\n",
    "    total = sum(numbers)\n",
    "    mean = total / len(numbers)\n",
    "    return mean\n",
    "\n",
    "def calculate_variance(numbers):\n",
    "    if not numbers:\n",
    "        return None  # Return None for an empty list\n",
    "\n",
    "    mean = calculate_mean(numbers)\n",
    "    squared_diff = [(num - mean) ** 2 for num in numbers]\n",
    "    variance = sum(squared_diff) / len(numbers)\n",
    "    return variance\n",
    "\n",
    "def get_numbers_from_user():\n",
    "    numbers = []\n",
    "    try:\n",
    "        num_count = int(input(\"Enter the number of elements: \"))\n",
    "        for i in range(num_count):\n",
    "            num = float(input(f\"Enter element {i + 1}: \"))\n",
    "            numbers.append(num)\n",
    "    except ValueError:\n",
    "        print(\"Invalid input. Please enter valid numbers.\")\n",
    "    return numbers\n",
    "\n",
    "# Example usage:\n",
    "user_numbers = get_numbers_from_user()\n",
    "result = calculate_variance(user_numbers)\n",
    "\n",
    "if result is not None:\n",
    "    print(f\"Variance: {result}\")\n",
    "else:\n",
    "    print(\"Cannot calculate variance for an empty list.\")\n"
   ]
  },
  {
   "cell_type": "markdown",
   "id": "7acad1bf",
   "metadata": {
    "id": "7acad1bf"
   },
   "source": [
    "#### 6. Create a function that takes a number as input and returns the factorial."
   ]
  },
  {
   "cell_type": "code",
   "execution_count": 32,
   "id": "f7c0877a",
   "metadata": {
    "id": "f7c0877a"
   },
   "outputs": [
    {
     "name": "stdout",
     "output_type": "stream",
     "text": [
      "Enter a number: 10\n",
      "Factorial: 3628800\n"
     ]
    }
   ],
   "source": [
    "def calculate_factorial(num):\n",
    "    if num < 0:\n",
    "        return None  # Return None for negative input\n",
    "    elif num == 0 or num == 1:\n",
    "        return 1\n",
    "    else:\n",
    "        factorial = 1\n",
    "        for i in range(2, num + 1):\n",
    "            factorial *= i\n",
    "        return factorial\n",
    "\n",
    "def get_number_from_user():\n",
    "    try:\n",
    "        num = int(input(\"Enter a number: \"))\n",
    "        return num\n",
    "    except ValueError:\n",
    "        print(\"Invalid input. Please enter a valid number.\")\n",
    "        return None\n",
    "\n",
    "# Example usage:\n",
    "user_number = get_number_from_user()\n",
    "\n",
    "if user_number is not None:\n",
    "    result = calculate_factorial(user_number)\n",
    "    print(f\"Factorial: {result}\")\n",
    "else:\n",
    "    print(\"Cannot calculate factorial for an invalid input.\")\n"
   ]
  },
  {
   "cell_type": "markdown",
   "id": "b1e46b1f",
   "metadata": {
    "id": "b1e46b1f"
   },
   "source": [
    "#### 7. Create a function that takes two lists of same length as input and returns a list consisting of larger element at each position after comparing the corresponding elements in the given lists."
   ]
  },
  {
   "cell_type": "code",
   "execution_count": 35,
   "id": "bc428d22",
   "metadata": {
    "id": "bc428d22"
   },
   "outputs": [
    {
     "name": "stdout",
     "output_type": "stream",
     "text": [
      "Enter the length of the lists: 3\n",
      "Enter element 1 for List 1: 12\n",
      "Enter element 2 for List 1: 10\n",
      "Enter element 3 for List 1: 1\n",
      "Enter element 1 for List 2: 45\n",
      "Enter element 2 for List 2: 54\n",
      "Enter element 3 for List 2: 78\n",
      "Result List: [45.0, 54.0, 78.0]\n"
     ]
    }
   ],
   "source": [
    "def compare_lists(list1, list2):\n",
    "    if len(list1) != len(list2):\n",
    "        return None  # Return None for lists of different lengths\n",
    "\n",
    "    result_list = []\n",
    "    for elem1, elem2 in zip(list1, list2):\n",
    "        max_element = max(elem1, elem2)\n",
    "        result_list.append(max_element)\n",
    "\n",
    "    return result_list\n",
    "\n",
    "def get_lists_from_user():\n",
    "    try:\n",
    "        length = int(input(\"Enter the length of the lists: \"))\n",
    "        list1 = [float(input(f\"Enter element {i + 1} for List 1: \")) for i in range(length)]\n",
    "        list2 = [float(input(f\"Enter element {i + 1} for List 2: \")) for i in range(length)]\n",
    "        return list1, list2\n",
    "    except ValueError:\n",
    "        print(\"Invalid input. Please enter valid numbers.\")\n",
    "        return None, None\n",
    "\n",
    "# Example usage:\n",
    "user_list1, user_list2 = get_lists_from_user()\n",
    "\n",
    "if user_list1 is not None and user_list2 is not None:\n",
    "    result = compare_lists(user_list1, user_list2)\n",
    "    if result is not None:\n",
    "        print(f\"Result List: {result}\")\n",
    "    else:\n",
    "        print(\"Lists have different lengths.\")\n",
    "else:\n",
    "    print(\"Invalid input for lists.\")\n"
   ]
  },
  {
   "cell_type": "markdown",
   "id": "f397889f",
   "metadata": {
    "id": "f397889f"
   },
   "source": [
    "#### 8. Create a function that takes a string and returns a string after joining the words that are having even lengths."
   ]
  },
  {
   "cell_type": "code",
   "execution_count": 39,
   "id": "ebf96e1c",
   "metadata": {
    "id": "ebf96e1c"
   },
   "outputs": [
    {
     "name": "stdout",
     "output_type": "stream",
     "text": [
      "Enter a string: d d d d d d \n",
      "Result String: \n"
     ]
    }
   ],
   "source": [
    "def join_words_with_even_length(input_string):\n",
    "    words = input_string.split()\n",
    "    even_length_words = [word for word in words if len(word) % 2 == 0]\n",
    "    result_string = ' '.join(even_length_words)\n",
    "    return result_string\n",
    "\n",
    "def get_string_from_user():\n",
    "    try:\n",
    "        user_input = input(\"Enter a string: \")\n",
    "        return user_input\n",
    "    except ValueError:\n",
    "        print(\"Invalid input. Please enter a valid string.\")\n",
    "        return None\n",
    "\n",
    "# Example usage:\n",
    "user_input_string = get_string_from_user()\n",
    "\n",
    "if user_input_string is not None:\n",
    "    result = join_words_with_even_length(user_input_string)\n",
    "    print(f\"Result String: {result}\")\n",
    "else:\n",
    "    print(\"Invalid input for the string.\")\n"
   ]
  },
  {
   "cell_type": "markdown",
   "id": "36c6aae1",
   "metadata": {
    "id": "36c6aae1"
   },
   "source": [
    "#### 9. Create a function that takes a string and a character as input and returns a list after splitting the string based on the given character. By Default split based on whitespace. (Create a function similar to the inbuilt split function without using it)."
   ]
  },
  {
   "cell_type": "code",
   "execution_count": 48,
   "id": "869d7244",
   "metadata": {
    "id": "869d7244"
   },
   "outputs": [
    {
     "name": "stdout",
     "output_type": "stream",
     "text": [
      "Enter a string: bjn\n",
      "Enter a character to split (default is whitespace): k\n",
      "Result List: ['bjn']\n"
     ]
    }
   ],
   "source": [
    "def custom_split(input_string, split_char=None):\n",
    "    if split_char is None:\n",
    "        split_char = ' '  # Default split character is whitespace\n",
    "\n",
    "    result_list = []\n",
    "    current_word = ''\n",
    "\n",
    "    for char in input_string:\n",
    "        if char == split_char:\n",
    "            if current_word:  # Check if the current word is not empty\n",
    "                result_list.append(current_word)\n",
    "                current_word = ''  # Reset the current word\n",
    "        else:\n",
    "            current_word += char\n",
    "\n",
    "    if current_word:  # Append the last word if not empty\n",
    "        result_list.append(current_word)\n",
    "\n",
    "    return result_list\n",
    "\n",
    "# Example usage:\n",
    "user_input = input(\"Enter a string: \")\n",
    "user_split_char = input(\"Enter a character to split (default is whitespace): \")\n",
    "\n",
    "if not user_split_char:\n",
    "    user_split_char = None\n",
    "\n",
    "result = custom_split(user_input, user_split_char)\n",
    "print(f\"Result List: {result}\")\n"
   ]
  },
  {
   "cell_type": "markdown",
   "id": "b8c01afd",
   "metadata": {
    "id": "b8c01afd"
   },
   "source": [
    "#### 10. Create a function which takes a 2-D list of shape m * n where m is number of elements in the original list and where each element is a list having n integers (A list of m lists having n numbers each, a matrix). The function returns the largest element in the given list."
   ]
  },
  {
   "cell_type": "code",
   "execution_count": 51,
   "id": "adda1366",
   "metadata": {
    "id": "adda1366"
   },
   "outputs": [
    {
     "name": "stdout",
     "output_type": "stream",
     "text": [
      "Largest Element: 9\n"
     ]
    }
   ],
   "source": [
    "def find_largest_element(matrix):\n",
    "    if not matrix or not matrix[0]:\n",
    "        return None  # Return None for empty matrix\n",
    "\n",
    "    largest_element = matrix[0][0]\n",
    "\n",
    "    for row in matrix:\n",
    "        for element in row:\n",
    "            if element > largest_element:\n",
    "                largest_element = element\n",
    "\n",
    "    return largest_element\n",
    "\n",
    "# Example usage:\n",
    "matrix = [\n",
    "    [3, 8, 2],\n",
    "    [1, 5, 4],\n",
    "    [7, 6, 9]\n",
    "]\n",
    "\n",
    "result = find_largest_element(matrix)\n",
    "print(f\"Largest Element: {result}\")\n"
   ]
  },
  {
   "cell_type": "markdown",
   "id": "d2a2a668",
   "metadata": {
    "id": "d2a2a668"
   },
   "source": [
    "#### 11. Create a function which takes a 2-D list of shape m * n where m is number of elements in the original list and where each element is a list having n integers (A list of m lists having n numbers each). The function also takes a number x as input and returns True is x is in the given 2D list."
   ]
  },
  {
   "cell_type": "code",
   "execution_count": 50,
   "id": "585d5e4b",
   "metadata": {
    "id": "585d5e4b"
   },
   "outputs": [
    {
     "name": "stdout",
     "output_type": "stream",
     "text": [
      "Enter a number to check: 5\n",
      "Is 5 in the matrix? True\n"
     ]
    }
   ],
   "source": [
    "def is_number_in_matrix(matrix, x):\n",
    "    for row in matrix:\n",
    "        if x in row:\n",
    "            return True\n",
    "    return False\n",
    "\n",
    "# Example usage:\n",
    "matrix = [\n",
    "    [3, 8, 2],\n",
    "    [1, 5, 4],\n",
    "    [7, 6, 9]\n",
    "]\n",
    "\n",
    "number_to_check = int(input(\"Enter a number to check: \"))\n",
    "result = is_number_in_matrix(matrix, number_to_check)\n",
    "\n",
    "print(f\"Is {number_to_check} in the matrix? {result}\")\n"
   ]
  },
  {
   "cell_type": "markdown",
   "id": "0d889f51",
   "metadata": {
    "id": "0d889f51"
   },
   "source": [
    "#### 12. Create a function which takes a 2-D list of shape m * n where m is number of elements in the original list and where each element is a list having n integers (A list of m lists having n numbers each). The function returns the sum of all rows in the matrix (2 D list)."
   ]
  },
  {
   "cell_type": "code",
   "execution_count": 52,
   "id": "56d82617",
   "metadata": {
    "id": "56d82617"
   },
   "outputs": [
    {
     "name": "stdout",
     "output_type": "stream",
     "text": [
      "Sum of Rows: [13, 10, 22]\n"
     ]
    }
   ],
   "source": [
    "def sum_of_rows(matrix):\n",
    "    row_sums = [sum(row) for row in matrix]\n",
    "    return row_sums\n",
    "\n",
    "# Example usage:\n",
    "matrix = [\n",
    "    [3, 8, 2],\n",
    "    [1, 5, 4],\n",
    "    [7, 6, 9]\n",
    "]\n",
    "\n",
    "result = sum_of_rows(matrix)\n",
    "print(f\"Sum of Rows: {result}\")\n"
   ]
  },
  {
   "cell_type": "markdown",
   "id": "f89438e1",
   "metadata": {
    "id": "f89438e1"
   },
   "source": [
    "#### 13. Create a function which takes a 2-D list of shape m * n where m is number of elements in the original list and where each element is a list having n integers (A list of m lists having n numbers each). The function also a takes a number x as input and returns a list of all consecutive pairs having sum eaqqual to x."
   ]
  },
  {
   "cell_type": "code",
   "execution_count": 54,
   "id": "c857dfcd",
   "metadata": {
    "id": "c857dfcd"
   },
   "outputs": [
    {
     "name": "stdout",
     "output_type": "stream",
     "text": [
      "Enter the target sum: 10\n",
      "Consecutive pairs with sum 10: [(8, 2)]\n"
     ]
    }
   ],
   "source": [
    "def find_consecutive_pairs(matrix, x):\n",
    "    pairs = []\n",
    "\n",
    "    for row in matrix:\n",
    "        for i in range(len(row) - 1):\n",
    "            if row[i] + row[i + 1] == x:\n",
    "                pairs.append((row[i], row[i + 1]))\n",
    "\n",
    "    return pairs\n",
    "\n",
    "# Example usage:\n",
    "matrix = [\n",
    "    [3, 8, 2],\n",
    "    [1, 5, 4],\n",
    "    [7, 6, 9]\n",
    "]\n",
    "\n",
    "number_to_find = int(input(\"Enter the target sum: \"))\n",
    "result = find_consecutive_pairs(matrix, number_to_find)\n",
    "\n",
    "print(f\"Consecutive pairs with sum {number_to_find}: {result}\")\n"
   ]
  },
  {
   "cell_type": "markdown",
   "id": "976248d9",
   "metadata": {
    "id": "976248d9"
   },
   "source": [
    "#### 14. Create a function that takes a list and a number as input and returns True ifthe number is present in the list otherwise false using Binary search algorithm. (Read about Binary Search)."
   ]
  },
  {
   "cell_type": "code",
   "execution_count": 56,
   "id": "ef73c7cb",
   "metadata": {
    "id": "ef73c7cb"
   },
   "outputs": [
    {
     "name": "stdout",
     "output_type": "stream",
     "text": [
      "Enter a list of numbers separated by spaces: 1 2 3 4 5 6 7 8 10 12\n",
      "Enter a number to check: 11\n",
      "Is 11 present in the list? False\n"
     ]
    }
   ],
   "source": [
    "def binary_search(input_list, target):\n",
    "    sorted_list = sorted(input_list)  # Ensure the list is sorted\n",
    "\n",
    "    low, high = 0, len(sorted_list) - 1\n",
    "\n",
    "    while low <= high:\n",
    "        mid = (low + high) // 2\n",
    "        mid_element = sorted_list[mid]\n",
    "\n",
    "        if mid_element == target:\n",
    "            return True\n",
    "        elif mid_element < target:\n",
    "            low = mid + 1\n",
    "        else:\n",
    "            high = mid - 1\n",
    "\n",
    "    return False\n",
    "\n",
    "# Example usage:\n",
    "user_input_list = [int(x) for x in input(\"Enter a list of numbers separated by spaces: \").split()]\n",
    "number_to_check = int(input(\"Enter a number to check: \"))\n",
    "result = binary_search(user_input_list, number_to_check)\n",
    "\n",
    "print(f\"Is {number_to_check} present in the list? {result}\")\n"
   ]
  },
  {
   "cell_type": "markdown",
   "id": "f12cc8c9",
   "metadata": {
    "id": "f12cc8c9"
   },
   "source": [
    "#### 15. Create a function which takes a txt filename as input and returns the number of words in that file."
   ]
  },
  {
   "cell_type": "code",
   "execution_count": 61,
   "id": "46492494",
   "metadata": {
    "id": "46492494"
   },
   "outputs": [
    {
     "name": "stdout",
     "output_type": "stream",
     "text": [
      "Enter the text file name: hobby.txt\n",
      "Number of words in 'hobby.txt': 6\n"
     ]
    }
   ],
   "source": [
    "def count_words_in_file(filename):\n",
    "    try:\n",
    "        with open(filename, 'r') as file:\n",
    "            content = file.read()\n",
    "            words = content.split()\n",
    "            return len(words)\n",
    "    except FileNotFoundError:\n",
    "        print(f\"Error: File '{filename}' not found.\")\n",
    "        return None\n",
    "\n",
    "# Example usage:\n",
    "file_name = input(\"Enter the text file name: \")\n",
    "result = count_words_in_file(file_name)\n",
    "\n",
    "if result is not None:\n",
    "    print(f\"Number of words in '{file_name}': {result}\")\n"
   ]
  },
  {
   "cell_type": "markdown",
   "id": "b2666c95",
   "metadata": {
    "id": "b2666c95"
   },
   "source": [
    "#### 16. Create a function which takes a txt filename as input and returns the number of line in the file."
   ]
  },
  {
   "cell_type": "code",
   "execution_count": 64,
   "id": "5ff27d42",
   "metadata": {
    "id": "5ff27d42"
   },
   "outputs": [
    {
     "name": "stdout",
     "output_type": "stream",
     "text": [
      "Enter the text file name: hobby.txt\n",
      "Number of lines in 'hobby.txt': 5\n"
     ]
    }
   ],
   "source": [
    "def count_lines_in_file(filename):\n",
    "    try:\n",
    "        with open(filename, 'r') as file:\n",
    "            lines = file.readlines()\n",
    "            return len(lines)\n",
    "    except FileNotFoundError:\n",
    "        print(f\"Error: File '{filename}' not found.\")\n",
    "        return None\n",
    "\n",
    "# Example usage:\n",
    "file_name = input(\"Enter the text file name: \")\n",
    "result = count_lines_in_file(file_name)\n",
    "\n",
    "if result is not None:\n",
    "    print(f\"Number of lines in '{file_name}': {result}\")\n"
   ]
  },
  {
   "cell_type": "markdown",
   "id": "6722fb75",
   "metadata": {
    "id": "6722fb75"
   },
   "source": [
    "#### 17. Create a function that takes two txt filenames and returns a file after merging the cintents of two given files. (Print the merged content and then return the filename, content of original files should be unchanged)."
   ]
  },
  {
   "cell_type": "code",
   "execution_count": 66,
   "id": "86a4b436",
   "metadata": {
    "id": "86a4b436"
   },
   "outputs": [
    {
     "name": "stdout",
     "output_type": "stream",
     "text": [
      "Enter the first text file name: hobby.txt\n",
      "Enter the second text file name: hobby.txt\n",
      "Merged Content:\n",
      "Acting\n",
      "Art collecting\n",
      "Dancing\n",
      "Drawing\n",
      "Photography\n",
      "\n",
      "Acting\n",
      "Art collecting\n",
      "Dancing\n",
      "Drawing\n",
      "Photography\n",
      "\n",
      "\n",
      "Merged content written to 'hobby.txt_merged_hobby.txt'.\n"
     ]
    }
   ],
   "source": [
    "def merge_files(file1, file2):\n",
    "    try:\n",
    "        with open(file1, 'r') as f1, open(file2, 'r') as f2:\n",
    "            content1 = f1.read()\n",
    "            content2 = f2.read()\n",
    "\n",
    "        merged_content = content1 + '\\n' + content2\n",
    "\n",
    "        # Print merged content\n",
    "        print(\"Merged Content:\")\n",
    "        print(merged_content)\n",
    "\n",
    "        # Return filename\n",
    "        return f\"{file1}_merged_{file2}\", merged_content\n",
    "    except FileNotFoundError:\n",
    "        print(f\"Error: One or both files not found.\")\n",
    "        return None, None\n",
    "\n",
    "# Example usage:\n",
    "file_name1 = input(\"Enter the first text file name: \")\n",
    "file_name2 = input(\"Enter the second text file name: \")\n",
    "new_file_name, merged_content = merge_files(file_name1, file_name2)\n",
    "\n",
    "if new_file_name is not None and merged_content is not None:\n",
    "    with open(new_file_name, 'w') as merged_file:\n",
    "        merged_file.write(merged_content)\n",
    "    print(f\"\\nMerged content written to '{new_file_name}'.\")\n",
    "else:\n",
    "    print(\"Merging failed.\")\n"
   ]
  },
  {
   "cell_type": "markdown",
   "id": "faf26668",
   "metadata": {
    "id": "faf26668"
   },
   "source": [
    "#### 18. Write a program that takes a string as input and returns a list of all words having even length in that string (Using Map/Filter and Lambda expression)."
   ]
  },
  {
   "cell_type": "code",
   "execution_count": 68,
   "id": "955cd692",
   "metadata": {
    "id": "955cd692"
   },
   "outputs": [
    {
     "name": "stdout",
     "output_type": "stream",
     "text": [
      "Enter a string: d vb dsfg\n",
      "Words with even length: ['vb', 'dsfg']\n"
     ]
    }
   ],
   "source": [
    "def get_words_with_even_length(input_string):\n",
    "    words = input_string.split()\n",
    "    even_length_words = list(filter(lambda word: len(word) % 2 == 0, words))\n",
    "    return even_length_words\n",
    "\n",
    "# Example usage:\n",
    "input_string = input(\"Enter a string: \")\n",
    "result = get_words_with_even_length(input_string)\n",
    "\n",
    "print(f\"Words with even length: {result}\")\n"
   ]
  },
  {
   "cell_type": "code",
   "execution_count": null,
   "id": "A1z_AdWcyKJi",
   "metadata": {
    "id": "A1z_AdWcyKJi"
   },
   "outputs": [],
   "source": []
  }
 ],
 "metadata": {
  "colab": {
   "provenance": []
  },
  "kernelspec": {
   "display_name": "Python 3 (ipykernel)",
   "language": "python",
   "name": "python3"
  },
  "language_info": {
   "codemirror_mode": {
    "name": "ipython",
    "version": 3
   },
   "file_extension": ".py",
   "mimetype": "text/x-python",
   "name": "python",
   "nbconvert_exporter": "python",
   "pygments_lexer": "ipython3",
   "version": "3.11.5"
  }
 },
 "nbformat": 4,
 "nbformat_minor": 5
}
