{
 "cells": [
  {
   "cell_type": "markdown",
   "id": "d72f8ceb",
   "metadata": {
    "id": "d72f8ceb"
   },
   "source": [
    "# Assessment - 5 Gradable\n",
    "\n",
    "- Each question carries 5 or 4 marks\n",
    "- Marks will be assigned in terms of:\n",
    "    \n",
    "    **1. Expected output**\n",
    "    \n",
    "    **2. Quality and Explainability of code**\n",
    "\n",
    "    ***Go back through the script and type a comment above each line explaining in English what it does.***\n",
    "\n",
    "    **3. Copied code, if found, will result in 0 marks for that question. To avoid this make as much comments in the code to explain the approach**"
   ]
  },
  {
   "cell_type": "markdown",
   "id": "e5819cc0",
   "metadata": {
    "id": "e5819cc0"
   },
   "source": [
    "### 1. \n",
    "\n",
    "Create a function ``lets_find_88`` Given a list of ints, return True if the array contains a 8 next to a 8 somewhere.\n",
    "- lets_find_88([1, 8, 8]) → True\n",
    "- lets_find_88([1, 8, 1, 8]) → False\n",
    "- lets_find_88([8, 1, 8]) → False"
   ]
  },
  {
   "cell_type": "code",
   "execution_count": 1,
   "id": "88e3b5b4",
   "metadata": {
    "id": "88e3b5b4"
   },
   "outputs": [
    {
     "name": "stdout",
     "output_type": "stream",
     "text": [
      "True\n",
      "False\n",
      "False\n"
     ]
    }
   ],
   "source": [
    "def lets_find_88(nums):\n",
    "    for i in range(len(nums) - 1):\n",
    "        if nums[i] == 8 and nums[i + 1] == 8:\n",
    "            return True\n",
    "    return False\n",
    "\n",
    "# Examples\n",
    "print(lets_find_88([1, 8, 8]))     # Output: True\n",
    "print(lets_find_88([1, 8, 1, 8]))   # Output: False\n",
    "print(lets_find_88([8, 1, 8]))      # Output: False\n"
   ]
  },
  {
   "cell_type": "markdown",
   "id": "6b3f11fd",
   "metadata": {
    "id": "6b3f11fd"
   },
   "source": [
    "### 2. \n",
    "\n",
    "ANIMAL CRACKERS: Write a function takes a two-word string and returns True if both words begin with same letter and returns False if both words begin with different letter\n",
    "- animal_crackers('Levelheaded Lion') --> True\n",
    "- animal_crackers('Cute Kangaroo') --> False"
   ]
  },
  {
   "cell_type": "code",
   "execution_count": 2,
   "id": "15e45ae3",
   "metadata": {
    "id": "15e45ae3"
   },
   "outputs": [
    {
     "name": "stdout",
     "output_type": "stream",
     "text": [
      "True\n",
      "False\n"
     ]
    }
   ],
   "source": [
    "def animal_crackers(text):\n",
    "    words = text.split()  # Split the input string into a list of words\n",
    "    return words[0][0].lower() == words[1][0].lower()\n",
    "\n",
    "# Examples\n",
    "print(animal_crackers('Levelheaded Lion'))  # Output: True\n",
    "print(animal_crackers('Cute Kangaroo'))     # Output: False\n"
   ]
  },
  {
   "cell_type": "markdown",
   "id": "42453e7d",
   "metadata": {
    "id": "42453e7d"
   },
   "source": [
    "### 3. \n",
    "\n",
    "Write a function ``how_many_primes`` that returns the number of prime numbers that exist up to and including a given number\n",
    "\n",
    "- how_many_primes(100) --> 25"
   ]
  },
  {
   "cell_type": "code",
   "execution_count": 3,
   "id": "b3302ec4",
   "metadata": {
    "id": "b3302ec4"
   },
   "outputs": [
    {
     "name": "stdout",
     "output_type": "stream",
     "text": [
      "25\n"
     ]
    }
   ],
   "source": [
    "def is_prime(num):\n",
    "    if num < 2:\n",
    "        return False\n",
    "    for i in range(2, int(num**0.5) + 1):\n",
    "        if num % i == 0:\n",
    "            return False\n",
    "    return True\n",
    "\n",
    "def how_many_primes(n):\n",
    "    count = 0\n",
    "    for number in range(2, n + 1):\n",
    "        if is_prime(number):\n",
    "            count += 1\n",
    "    return count\n",
    "\n",
    "# Example\n",
    "result = how_many_primes(100)\n",
    "print(result)  # Output: 25\n"
   ]
  },
  {
   "cell_type": "markdown",
   "id": "2b5f6f63",
   "metadata": {
    "id": "2b5f6f63"
   },
   "source": [
    "### 4. \n",
    "\n",
    "b = open(\"assignment.txt\")\n",
    "\n",
    "Consider the code given above and write the answers to the following :\n",
    "\n",
    "- Identify the name of the file : __\"assignment.txt.\"__\n",
    "- Identify the name of the function used above :__open()__\n",
    "- What is 'b' in above code :__'b' is a variable that holds the file object returned by the open() function.__\n",
    "- The above statement will ___open the file named \"assignment.txt\"___ file in __Read__ mode."
   ]
  },
  {
   "cell_type": "markdown",
   "id": "6c9eb680",
   "metadata": {
    "id": "6c9eb680"
   },
   "source": [
    "### 5.\n",
    "\n",
    "Accept five hobbies from the user and write in a file 'hobby.txt'. Then Read the file to list out all the 5 hobbies from the user."
   ]
  },
  {
   "cell_type": "code",
   "execution_count": 9,
   "id": "1b9db22c",
   "metadata": {
    "id": "1b9db22c"
   },
   "outputs": [
    {
     "name": "stdout",
     "output_type": "stream",
     "text": [
      "Enter hobby 1: Acting\n",
      "Enter hobby 2: Art collecting\n",
      "Enter hobby 3: Dancing\n",
      "Enter hobby 4: Drawing\n",
      "Enter hobby 5: Photography\n",
      "Hobbies written to 'hobby.txt'.\n",
      "List of Hobbies:\n",
      "Acting\n",
      "Art collecting\n",
      "Dancing\n",
      "Drawing\n",
      "Photography\n"
     ]
    }
   ],
   "source": [
    "# Accept five hobbies from the user\n",
    "hobbies = []\n",
    "for i in range(5):\n",
    "    hobby = input(f\"Enter hobby {i + 1}: \")\n",
    "    hobbies.append(hobby)\n",
    "\n",
    "# Write hobbies to a file\n",
    "with open('hobby.txt', 'w') as file:\n",
    "    for hobby in hobbies:\n",
    "        file.write(f\"{hobby}\\n\")\n",
    "\n",
    "print(\"Hobbies written to 'hobby.txt'.\")\n",
    "\n",
    "# Read the file to list out all the hobbies\n",
    "read_hobbies = []\n",
    "\n",
    "# Open the file in read mode\n",
    "file = open('hobby.txt', 'r')\n",
    "\n",
    "# Iterate over each line and append to read_hobbies\n",
    "for line in file:\n",
    "    read_hobbies.append(line.strip())\n",
    "\n",
    "# Close the file\n",
    "file.close()\n",
    "\n",
    "# List out all the hobbies\n",
    "print(\"List of Hobbies:\")\n",
    "for hobby in read_hobbies:\n",
    "    print(hobby)\n"
   ]
  },
  {
   "cell_type": "code",
   "execution_count": null,
   "id": "807cb38c",
   "metadata": {},
   "outputs": [],
   "source": []
  }
 ],
 "metadata": {
  "colab": {
   "provenance": []
  },
  "kernelspec": {
   "display_name": "Python 3 (ipykernel)",
   "language": "python",
   "name": "python3"
  },
  "language_info": {
   "codemirror_mode": {
    "name": "ipython",
    "version": 3
   },
   "file_extension": ".py",
   "mimetype": "text/x-python",
   "name": "python",
   "nbconvert_exporter": "python",
   "pygments_lexer": "ipython3",
   "version": "3.11.5"
  }
 },
 "nbformat": 4,
 "nbformat_minor": 5
}
